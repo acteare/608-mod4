{
 "cells": [
  {
   "cell_type": "markdown",
   "id": "f4ff4996-7233-4d84-9e83-03f195d562b4",
   "metadata": {},
   "source": [
    "## 5.2 - Lists"
   ]
  },
  {
   "cell_type": "markdown",
   "id": "80a6c174-9180-4332-88a7-e8b9c3192ebd",
   "metadata": {},
   "source": [
    "#### Creating a List"
   ]
  },
  {
   "cell_type": "code",
   "execution_count": 1,
   "id": "07c18bb0-b19c-4111-8e5f-536efe0aa5d8",
   "metadata": {},
   "outputs": [],
   "source": [
    "c = [-45, 6, 0, 72, 1543]"
   ]
  },
  {
   "cell_type": "code",
   "execution_count": 2,
   "id": "1b511905-cbd7-4121-a59d-0ad666a540ec",
   "metadata": {},
   "outputs": [
    {
     "data": {
      "text/plain": [
       "[-45, 6, 0, 72, 1543]"
      ]
     },
     "execution_count": 2,
     "metadata": {},
     "output_type": "execute_result"
    }
   ],
   "source": [
    "c"
   ]
  },
  {
   "cell_type": "markdown",
   "id": "d7d0b9fc-3bf1-495e-bb26-93e54b3687cc",
   "metadata": {},
   "source": [
    "#### Accessing Elements of a List"
   ]
  },
  {
   "cell_type": "code",
   "execution_count": 3,
   "id": "cc441e9d-e710-477f-b758-9d6255f20bd9",
   "metadata": {},
   "outputs": [
    {
     "data": {
      "text/plain": [
       "-45"
      ]
     },
     "execution_count": 3,
     "metadata": {},
     "output_type": "execute_result"
    }
   ],
   "source": [
    "c[0]"
   ]
  },
  {
   "cell_type": "markdown",
   "id": "6c83ed3a-080c-45a2-aee8-29e724b5abce",
   "metadata": {},
   "source": [
    "***Note that the first number has an index of 0, not an index of 1. "
   ]
  },
  {
   "cell_type": "code",
   "execution_count": 4,
   "id": "647c115c-4092-4cd0-ac38-f4d7a23d064b",
   "metadata": {},
   "outputs": [
    {
     "data": {
      "text/plain": [
       "1543"
      ]
     },
     "execution_count": 4,
     "metadata": {},
     "output_type": "execute_result"
    }
   ],
   "source": [
    "c[4]"
   ]
  },
  {
   "cell_type": "code",
   "execution_count": 5,
   "id": "cc3db338-a46b-4477-b2ac-39b76e57da31",
   "metadata": {},
   "outputs": [],
   "source": [
    "### the code c[100] is attempting to access the 101th position of the list. \n",
    "### Since the list is not that long, the code will result in an IndexError"
   ]
  },
  {
   "cell_type": "markdown",
   "id": "49b75b76-fc00-4b4c-825c-0c68dfc0a658",
   "metadata": {},
   "source": [
    "#### Determing a List's Length"
   ]
  },
  {
   "cell_type": "code",
   "execution_count": 6,
   "id": "b9677b56-28d1-4b04-987d-9650ca01ee53",
   "metadata": {},
   "outputs": [
    {
     "data": {
      "text/plain": [
       "5"
      ]
     },
     "execution_count": 6,
     "metadata": {},
     "output_type": "execute_result"
    }
   ],
   "source": [
    "len(c)"
   ]
  },
  {
   "cell_type": "markdown",
   "id": "0a5f7b81-4911-4bf8-b91c-832a646e1f69",
   "metadata": {},
   "source": [
    "#### Accessing Elements from the End of the List with Negative Indices"
   ]
  },
  {
   "cell_type": "code",
   "execution_count": 7,
   "id": "3373cd3b-cd56-4e88-a527-6723ddc07454",
   "metadata": {},
   "outputs": [
    {
     "data": {
      "text/plain": [
       "1543"
      ]
     },
     "execution_count": 7,
     "metadata": {},
     "output_type": "execute_result"
    }
   ],
   "source": [
    "c[-1]"
   ]
  },
  {
   "cell_type": "code",
   "execution_count": 8,
   "id": "326df4eb-7c56-479d-97a8-b1c713a1f71c",
   "metadata": {},
   "outputs": [
    {
     "data": {
      "text/plain": [
       "-45"
      ]
     },
     "execution_count": 8,
     "metadata": {},
     "output_type": "execute_result"
    }
   ],
   "source": [
    "c[-5]"
   ]
  },
  {
   "cell_type": "markdown",
   "id": "bfd8025f-52ca-42f1-be9c-2436a3dd9e36",
   "metadata": {},
   "source": [
    "#### Indices Must Be Integers or Integer Expressions"
   ]
  },
  {
   "cell_type": "code",
   "execution_count": 9,
   "id": "27466143-4b86-4052-bac2-fa665dba2d8a",
   "metadata": {},
   "outputs": [],
   "source": [
    "a = 1"
   ]
  },
  {
   "cell_type": "code",
   "execution_count": 10,
   "id": "a6aa5741-e302-4dc6-b168-179d7a251eb7",
   "metadata": {},
   "outputs": [],
   "source": [
    "b = 2"
   ]
  },
  {
   "cell_type": "code",
   "execution_count": 11,
   "id": "876391d3-8701-4853-9229-c8bcd4073413",
   "metadata": {},
   "outputs": [
    {
     "data": {
      "text/plain": [
       "72"
      ]
     },
     "execution_count": 11,
     "metadata": {},
     "output_type": "execute_result"
    }
   ],
   "source": [
    "c[a + b]"
   ]
  },
  {
   "cell_type": "markdown",
   "id": "feb29d0e-797f-4da1-852c-9fb056256cd3",
   "metadata": {},
   "source": [
    "#### Lists Are Mutable"
   ]
  },
  {
   "cell_type": "code",
   "execution_count": 12,
   "id": "5d9726a8-61bb-4fa6-9d70-5e07d49f4ab4",
   "metadata": {},
   "outputs": [],
   "source": [
    "c[4] = 17"
   ]
  },
  {
   "cell_type": "markdown",
   "id": "e5ddf4d7-3b1f-48dc-85e1-a3856e99e4e6",
   "metadata": {},
   "source": [
    "The above code adds the number 17 into the list in the 4 spot."
   ]
  },
  {
   "cell_type": "code",
   "execution_count": 13,
   "id": "889589d0-0c0e-4385-a2d8-912d38b16276",
   "metadata": {},
   "outputs": [
    {
     "data": {
      "text/plain": [
       "[-45, 6, 0, 72, 17]"
      ]
     },
     "execution_count": 13,
     "metadata": {},
     "output_type": "execute_result"
    }
   ],
   "source": [
    "c"
   ]
  },
  {
   "cell_type": "markdown",
   "id": "353c97c8-d8ab-4fb5-a43f-7de87f9760b8",
   "metadata": {},
   "source": [
    "#### Some Sequences are Immutable"
   ]
  },
  {
   "cell_type": "code",
   "execution_count": 14,
   "id": "f15cb0dc-32ef-4792-b2f1-07f377d0a9ef",
   "metadata": {},
   "outputs": [],
   "source": [
    "s = 'hello'"
   ]
  },
  {
   "cell_type": "code",
   "execution_count": 15,
   "id": "4bd80e74-f4d8-4abd-a40b-fdf9d022243f",
   "metadata": {},
   "outputs": [
    {
     "data": {
      "text/plain": [
       "'h'"
      ]
     },
     "execution_count": 15,
     "metadata": {},
     "output_type": "execute_result"
    }
   ],
   "source": [
    "s[0]"
   ]
  },
  {
   "cell_type": "code",
   "execution_count": 16,
   "id": "01d776c3-89ce-49ab-8ffa-9a3b084c731b",
   "metadata": {},
   "outputs": [],
   "source": [
    "### s[0] = 'H' would result in an error because you cannot change string or tuple sequences"
   ]
  },
  {
   "cell_type": "markdown",
   "id": "ec55c128-6fe7-48b9-94df-4f653886d889",
   "metadata": {},
   "source": [
    "#### Using List Elements in Expressions"
   ]
  },
  {
   "cell_type": "code",
   "execution_count": 17,
   "id": "ac1c21b3-8533-46ea-aadb-8e8b222008f5",
   "metadata": {},
   "outputs": [
    {
     "data": {
      "text/plain": [
       "-39"
      ]
     },
     "execution_count": 17,
     "metadata": {},
     "output_type": "execute_result"
    }
   ],
   "source": [
    "c[0] + c[1] + c[2]"
   ]
  },
  {
   "cell_type": "markdown",
   "id": "1ffd7cb8-5aa0-41db-87ce-e8fbf7725bbe",
   "metadata": {},
   "source": [
    "The above code adds together the values at the 0, 1 and 2 position in the c list. "
   ]
  },
  {
   "cell_type": "markdown",
   "id": "87a3d093-5e81-4875-97bc-99e0e9b612ef",
   "metadata": {},
   "source": [
    "#### Appending to a List with +="
   ]
  },
  {
   "cell_type": "code",
   "execution_count": 18,
   "id": "55c8273c-c3b4-4e18-9799-b0d2e42777a1",
   "metadata": {},
   "outputs": [],
   "source": [
    "a_list = []"
   ]
  },
  {
   "cell_type": "code",
   "execution_count": 19,
   "id": "5c7253ab-8d3b-4496-a103-3947fe7fcd1e",
   "metadata": {},
   "outputs": [],
   "source": [
    "for number in range(1,6):\n",
    "    a_list += [number]"
   ]
  },
  {
   "cell_type": "code",
   "execution_count": 20,
   "id": "d0fb3c27-5c71-461c-9aef-4ef44b965f17",
   "metadata": {},
   "outputs": [
    {
     "data": {
      "text/plain": [
       "[1, 2, 3, 4, 5]"
      ]
     },
     "execution_count": 20,
     "metadata": {},
     "output_type": "execute_result"
    }
   ],
   "source": [
    "a_list"
   ]
  },
  {
   "cell_type": "code",
   "execution_count": 21,
   "id": "b26d69f4-1ab3-498a-ad5c-e66c288c71ba",
   "metadata": {},
   "outputs": [],
   "source": [
    "letters = []"
   ]
  },
  {
   "cell_type": "code",
   "execution_count": 22,
   "id": "4b4f0784-592d-4491-85c8-c2bd276cd444",
   "metadata": {},
   "outputs": [],
   "source": [
    "letters += 'Python'"
   ]
  },
  {
   "cell_type": "code",
   "execution_count": 23,
   "id": "37b120a7-7371-42ae-b754-827b7f7b4932",
   "metadata": {},
   "outputs": [
    {
     "data": {
      "text/plain": [
       "['P', 'y', 't', 'h', 'o', 'n']"
      ]
     },
     "execution_count": 23,
     "metadata": {},
     "output_type": "execute_result"
    }
   ],
   "source": [
    "letters"
   ]
  },
  {
   "cell_type": "markdown",
   "id": "437ea7c3-4f78-43f2-99dc-8816a819ce8a",
   "metadata": {},
   "source": [
    "#### Concatenating Lists with +"
   ]
  },
  {
   "cell_type": "code",
   "execution_count": 24,
   "id": "76a06c1f-8d7b-46af-842a-c6b327ccb501",
   "metadata": {},
   "outputs": [],
   "source": [
    "list1 = [10, 20, 30]"
   ]
  },
  {
   "cell_type": "code",
   "execution_count": 25,
   "id": "01130146-6fcf-4fe7-a669-84a28547d2a8",
   "metadata": {},
   "outputs": [],
   "source": [
    "list2 = [40, 50]"
   ]
  },
  {
   "cell_type": "code",
   "execution_count": 26,
   "id": "58143405-b64c-447e-ae6e-72a214251586",
   "metadata": {},
   "outputs": [],
   "source": [
    "concatenated_list = list1 + list2"
   ]
  },
  {
   "cell_type": "code",
   "execution_count": 27,
   "id": "edce975d-3396-4891-9fda-5958b9978e34",
   "metadata": {},
   "outputs": [
    {
     "data": {
      "text/plain": [
       "[10, 20, 30, 40, 50]"
      ]
     },
     "execution_count": 27,
     "metadata": {},
     "output_type": "execute_result"
    }
   ],
   "source": [
    "concatenated_list"
   ]
  },
  {
   "cell_type": "code",
   "execution_count": 28,
   "id": "a14be6c1-6c30-47ae-94a8-773ec294c57e",
   "metadata": {},
   "outputs": [],
   "source": [
    "### The above code combines the two lists.\n",
    "### Notice how it starts with list1 and is followed immediately by list2."
   ]
  },
  {
   "cell_type": "markdown",
   "id": "986a6fd7-2284-4bd1-84d5-e28d3ecff317",
   "metadata": {},
   "source": [
    "#### Using for and range to Access List Indices and Values"
   ]
  },
  {
   "cell_type": "code",
   "execution_count": 29,
   "id": "820b749f-4fe9-47ec-811f-7852f5aa62a3",
   "metadata": {},
   "outputs": [
    {
     "name": "stdout",
     "output_type": "stream",
     "text": [
      "0: 10\n",
      "1: 20\n",
      "2: 30\n",
      "3: 40\n",
      "4: 50\n"
     ]
    }
   ],
   "source": [
    "for i in range(len(concatenated_list)):\n",
    "    print(f'{i}: {concatenated_list[i]}')"
   ]
  },
  {
   "cell_type": "markdown",
   "id": "ddd61219-f563-4c1f-a503-018fe3f850b2",
   "metadata": {},
   "source": [
    "#### Comparison operators"
   ]
  },
  {
   "cell_type": "code",
   "execution_count": 30,
   "id": "be8f70f7-d673-46a5-961b-4b61e7f10038",
   "metadata": {},
   "outputs": [],
   "source": [
    "a = [1, 2, 3]"
   ]
  },
  {
   "cell_type": "code",
   "execution_count": 31,
   "id": "e4164435-9758-4567-8ca2-727c56f90fd7",
   "metadata": {},
   "outputs": [],
   "source": [
    "b = [1, 2, 3]"
   ]
  },
  {
   "cell_type": "code",
   "execution_count": 32,
   "id": "fb3d15e2-9e5f-4661-804f-b7a6edcdfb00",
   "metadata": {},
   "outputs": [],
   "source": [
    "c = [1, 2, 3, 4]"
   ]
  },
  {
   "cell_type": "code",
   "execution_count": 33,
   "id": "77559e8f-9e56-4d04-b77d-1392469e4852",
   "metadata": {},
   "outputs": [
    {
     "data": {
      "text/plain": [
       "True"
      ]
     },
     "execution_count": 33,
     "metadata": {},
     "output_type": "execute_result"
    }
   ],
   "source": [
    "a == b"
   ]
  },
  {
   "cell_type": "code",
   "execution_count": 34,
   "id": "580aaa46-f118-47aa-ad87-3f171afe8913",
   "metadata": {},
   "outputs": [
    {
     "data": {
      "text/plain": [
       "False"
      ]
     },
     "execution_count": 34,
     "metadata": {},
     "output_type": "execute_result"
    }
   ],
   "source": [
    "a == c ## C has more values than A, so they are not equal"
   ]
  },
  {
   "cell_type": "code",
   "execution_count": 35,
   "id": "0a7da56c-efa8-41ab-9d5a-1b4d827876e5",
   "metadata": {},
   "outputs": [
    {
     "data": {
      "text/plain": [
       "True"
      ]
     },
     "execution_count": 35,
     "metadata": {},
     "output_type": "execute_result"
    }
   ],
   "source": [
    "a < c"
   ]
  },
  {
   "cell_type": "code",
   "execution_count": 36,
   "id": "8b8ff0c8-3948-4f0f-a289-076157a29c44",
   "metadata": {},
   "outputs": [
    {
     "data": {
      "text/plain": [
       "True"
      ]
     },
     "execution_count": 36,
     "metadata": {},
     "output_type": "execute_result"
    }
   ],
   "source": [
    "c >= b"
   ]
  },
  {
   "cell_type": "markdown",
   "id": "9c795bb7-dd28-4276-8f7a-2fdbfdd30316",
   "metadata": {},
   "source": [
    "## 5.3 - Tuples"
   ]
  },
  {
   "cell_type": "markdown",
   "id": "4ad925f2-df9d-45e7-b29b-f2dd755913b2",
   "metadata": {},
   "source": [
    "#### Creating Tuples"
   ]
  },
  {
   "cell_type": "code",
   "execution_count": 37,
   "id": "233960a7-b35e-4553-be54-574c9ad14753",
   "metadata": {},
   "outputs": [],
   "source": [
    "student_tuple = ()"
   ]
  },
  {
   "cell_type": "code",
   "execution_count": 38,
   "id": "c12f4f83-25ed-41bd-b98c-11cac72a3e90",
   "metadata": {},
   "outputs": [
    {
     "data": {
      "text/plain": [
       "()"
      ]
     },
     "execution_count": 38,
     "metadata": {},
     "output_type": "execute_result"
    }
   ],
   "source": [
    "student_tuple"
   ]
  },
  {
   "cell_type": "code",
   "execution_count": 39,
   "id": "e7b1d746-9c80-4e82-a482-b348ab665844",
   "metadata": {},
   "outputs": [
    {
     "data": {
      "text/plain": [
       "0"
      ]
     },
     "execution_count": 39,
     "metadata": {},
     "output_type": "execute_result"
    }
   ],
   "source": [
    "len(student_tuple)"
   ]
  },
  {
   "cell_type": "code",
   "execution_count": 40,
   "id": "aa4eda92-f067-4eaa-a193-8c2e00987d17",
   "metadata": {},
   "outputs": [],
   "source": [
    "student_tuple = 'John', 'Green', 3.3"
   ]
  },
  {
   "cell_type": "code",
   "execution_count": 41,
   "id": "a2a72331-09f6-4e0c-b26e-5568f6dd9501",
   "metadata": {},
   "outputs": [
    {
     "data": {
      "text/plain": [
       "('John', 'Green', 3.3)"
      ]
     },
     "execution_count": 41,
     "metadata": {},
     "output_type": "execute_result"
    }
   ],
   "source": [
    "student_tuple"
   ]
  },
  {
   "cell_type": "code",
   "execution_count": 42,
   "id": "6e131190-1c6a-4eb5-96da-7d0b23c3a608",
   "metadata": {},
   "outputs": [
    {
     "data": {
      "text/plain": [
       "3"
      ]
     },
     "execution_count": 42,
     "metadata": {},
     "output_type": "execute_result"
    }
   ],
   "source": [
    "len(student_tuple)"
   ]
  },
  {
   "cell_type": "code",
   "execution_count": 43,
   "id": "135a0fc6-dbbb-4d35-9890-722dbd366d99",
   "metadata": {},
   "outputs": [],
   "source": [
    "another_student_tuple = ('Mary', 'Red', 3.3)"
   ]
  },
  {
   "cell_type": "code",
   "execution_count": 44,
   "id": "e37bfd60-128e-44ff-bb91-cd6ca65c7c0a",
   "metadata": {},
   "outputs": [
    {
     "data": {
      "text/plain": [
       "('Mary', 'Red', 3.3)"
      ]
     },
     "execution_count": 44,
     "metadata": {},
     "output_type": "execute_result"
    }
   ],
   "source": [
    "another_student_tuple"
   ]
  },
  {
   "cell_type": "code",
   "execution_count": 45,
   "id": "27d7fc3a-cf20-4dc2-b665-e9488ecf2248",
   "metadata": {},
   "outputs": [],
   "source": [
    "a_singleton_tuple = ('Red',)"
   ]
  },
  {
   "cell_type": "code",
   "execution_count": 46,
   "id": "5245ee09-59c8-4555-91f4-2cbceb1819de",
   "metadata": {},
   "outputs": [
    {
     "data": {
      "text/plain": [
       "('Red',)"
      ]
     },
     "execution_count": 46,
     "metadata": {},
     "output_type": "execute_result"
    }
   ],
   "source": [
    "a_singleton_tuple"
   ]
  },
  {
   "cell_type": "markdown",
   "id": "a351f920-7f74-40e3-92de-704be930e45f",
   "metadata": {},
   "source": [
    "#### Accessing Tuple Elements"
   ]
  },
  {
   "cell_type": "code",
   "execution_count": 47,
   "id": "99404e70-65a0-4557-8e4b-f04bb46449bb",
   "metadata": {},
   "outputs": [],
   "source": [
    "time_tuple = (9, 16, 1)"
   ]
  },
  {
   "cell_type": "code",
   "execution_count": 48,
   "id": "ce148f00-879c-4358-9e26-a14d6e6f4757",
   "metadata": {},
   "outputs": [
    {
     "data": {
      "text/plain": [
       "(9, 16, 1)"
      ]
     },
     "execution_count": 48,
     "metadata": {},
     "output_type": "execute_result"
    }
   ],
   "source": [
    "time_tuple"
   ]
  },
  {
   "cell_type": "code",
   "execution_count": 49,
   "id": "62564758-91d8-4f40-8276-299754b704e7",
   "metadata": {},
   "outputs": [
    {
     "data": {
      "text/plain": [
       "33361"
      ]
     },
     "execution_count": 49,
     "metadata": {},
     "output_type": "execute_result"
    }
   ],
   "source": [
    "time_tuple[0]  * 3600 + time_tuple[1] * 60 + time_tuple[2]"
   ]
  },
  {
   "cell_type": "markdown",
   "id": "2209bd49-4d51-4c27-8182-94d856e2edb2",
   "metadata": {},
   "source": [
    "#### Adding Items to a String or Tuple"
   ]
  },
  {
   "cell_type": "code",
   "execution_count": 50,
   "id": "6da1c082-e448-4a80-9a1f-9da3c54c1114",
   "metadata": {},
   "outputs": [],
   "source": [
    "tuple1 = (10, 20, 30)"
   ]
  },
  {
   "cell_type": "code",
   "execution_count": 51,
   "id": "7d816cdf-44a8-4b3a-83a3-9992ac41c574",
   "metadata": {},
   "outputs": [],
   "source": [
    "tuple2 = tuple1"
   ]
  },
  {
   "cell_type": "code",
   "execution_count": 52,
   "id": "e59f8357-09b2-4b55-8a87-56f3777526bf",
   "metadata": {},
   "outputs": [
    {
     "data": {
      "text/plain": [
       "(10, 20, 30)"
      ]
     },
     "execution_count": 52,
     "metadata": {},
     "output_type": "execute_result"
    }
   ],
   "source": [
    "tuple2"
   ]
  },
  {
   "cell_type": "code",
   "execution_count": 53,
   "id": "412717f1-9a4f-4006-86d8-6f5f96ff70d8",
   "metadata": {},
   "outputs": [],
   "source": [
    "tuple1 += (40, 50)"
   ]
  },
  {
   "cell_type": "code",
   "execution_count": 54,
   "id": "7bf0cd0e-8837-481e-be94-3137c0de6eb6",
   "metadata": {},
   "outputs": [
    {
     "data": {
      "text/plain": [
       "(10, 20, 30, 40, 50)"
      ]
     },
     "execution_count": 54,
     "metadata": {},
     "output_type": "execute_result"
    }
   ],
   "source": [
    "tuple1"
   ]
  },
  {
   "cell_type": "code",
   "execution_count": 55,
   "id": "989aa35d-6def-4138-80a3-b33ab12bfd87",
   "metadata": {},
   "outputs": [
    {
     "data": {
      "text/plain": [
       "(10, 20, 30)"
      ]
     },
     "execution_count": 55,
     "metadata": {},
     "output_type": "execute_result"
    }
   ],
   "source": [
    "tuple2"
   ]
  },
  {
   "cell_type": "markdown",
   "id": "ac3c9fc0-32cd-4a0e-a00e-d6425bf5fc71",
   "metadata": {},
   "source": [
    "#### Appending Tuples to Lists"
   ]
  },
  {
   "cell_type": "code",
   "execution_count": 56,
   "id": "2735af44-2595-4b03-8096-c4fc8c8f40d7",
   "metadata": {},
   "outputs": [],
   "source": [
    "numbers = [1, 2, 3, 4, 5]"
   ]
  },
  {
   "cell_type": "code",
   "execution_count": 57,
   "id": "abb19d93-f721-4489-afc7-45ed33d49fc2",
   "metadata": {},
   "outputs": [],
   "source": [
    "numbers += (6, 7)"
   ]
  },
  {
   "cell_type": "code",
   "execution_count": 58,
   "id": "2d7e329c-6ab8-4d3b-a812-61601a8c85eb",
   "metadata": {},
   "outputs": [
    {
     "data": {
      "text/plain": [
       "[1, 2, 3, 4, 5, 6, 7]"
      ]
     },
     "execution_count": 58,
     "metadata": {},
     "output_type": "execute_result"
    }
   ],
   "source": [
    "numbers"
   ]
  },
  {
   "cell_type": "markdown",
   "id": "94a83883-21e1-4515-bb4a-c17c7f998348",
   "metadata": {},
   "source": [
    "#### Tuples May Contain Mutable Objects"
   ]
  },
  {
   "cell_type": "code",
   "execution_count": 59,
   "id": "ce14f19b-0e22-4248-82c7-c97487b5d40b",
   "metadata": {},
   "outputs": [],
   "source": [
    "student_tuple = ('Amanda', 'Blue', [98, 75, 87])"
   ]
  },
  {
   "cell_type": "code",
   "execution_count": 60,
   "id": "5a7b470e-64fc-4d1e-a3ac-7c4369383985",
   "metadata": {},
   "outputs": [],
   "source": [
    "student_tuple[2][1] = 85"
   ]
  },
  {
   "cell_type": "code",
   "execution_count": 61,
   "id": "2ae7d03a-5ce9-4d46-85b8-990c9de41419",
   "metadata": {},
   "outputs": [
    {
     "data": {
      "text/plain": [
       "('Amanda', 'Blue', [98, 85, 87])"
      ]
     },
     "execution_count": 61,
     "metadata": {},
     "output_type": "execute_result"
    }
   ],
   "source": [
    "student_tuple"
   ]
  },
  {
   "cell_type": "markdown",
   "id": "54234aac-21f9-439c-9481-5ef51a18c595",
   "metadata": {},
   "source": [
    "## 5.4 Unpacking Sequences"
   ]
  },
  {
   "cell_type": "code",
   "execution_count": 62,
   "id": "f5d18b58-0e2d-4c1b-bbb0-32ccd6a97ce0",
   "metadata": {},
   "outputs": [],
   "source": [
    "student_tuple = ('Amanda', [98, 85, 87])"
   ]
  },
  {
   "cell_type": "code",
   "execution_count": 63,
   "id": "5db31406-5e52-449c-8b35-d85bd09d9416",
   "metadata": {},
   "outputs": [],
   "source": [
    "first_name, grades = student_tuple"
   ]
  },
  {
   "cell_type": "code",
   "execution_count": 64,
   "id": "d9515657-8144-4f0b-8065-c8c9901dc1bf",
   "metadata": {},
   "outputs": [
    {
     "data": {
      "text/plain": [
       "'Amanda'"
      ]
     },
     "execution_count": 64,
     "metadata": {},
     "output_type": "execute_result"
    }
   ],
   "source": [
    "first_name"
   ]
  },
  {
   "cell_type": "code",
   "execution_count": 65,
   "id": "cd28ff0c-f218-40c3-a084-b5e269947473",
   "metadata": {},
   "outputs": [
    {
     "data": {
      "text/plain": [
       "[98, 85, 87]"
      ]
     },
     "execution_count": 65,
     "metadata": {},
     "output_type": "execute_result"
    }
   ],
   "source": [
    "grades"
   ]
  },
  {
   "cell_type": "code",
   "execution_count": 66,
   "id": "c3acfdf2-42d6-418f-b001-c3041057f158",
   "metadata": {},
   "outputs": [],
   "source": [
    "first, second = 'hi'"
   ]
  },
  {
   "cell_type": "code",
   "execution_count": 67,
   "id": "99a7a166-d431-42da-97f0-f18a6791cee9",
   "metadata": {},
   "outputs": [
    {
     "name": "stdout",
     "output_type": "stream",
     "text": [
      "h i\n"
     ]
    }
   ],
   "source": [
    "print(f'{first} {second}')"
   ]
  },
  {
   "cell_type": "code",
   "execution_count": 68,
   "id": "8b0f82b9-1ad1-4f7f-956c-8af2e8046845",
   "metadata": {},
   "outputs": [],
   "source": [
    "number1, number2, number3 = [2, 3, 5]"
   ]
  },
  {
   "cell_type": "code",
   "execution_count": 69,
   "id": "1bd1ac02-f423-4d17-aeac-a89c9899f443",
   "metadata": {},
   "outputs": [
    {
     "name": "stdout",
     "output_type": "stream",
     "text": [
      "2 3 5\n"
     ]
    }
   ],
   "source": [
    "print(f'{number1} {number2} {number3}')"
   ]
  },
  {
   "cell_type": "code",
   "execution_count": 70,
   "id": "b5d348c5-0286-4c6f-a022-1246915bc354",
   "metadata": {},
   "outputs": [],
   "source": [
    "number1, number2, number3 = range(10, 40, 10)"
   ]
  },
  {
   "cell_type": "code",
   "execution_count": 71,
   "id": "a1cd86d9-5ba3-48c7-a201-cdc0a6ffb5e5",
   "metadata": {},
   "outputs": [
    {
     "name": "stdout",
     "output_type": "stream",
     "text": [
      "10 20 30\n"
     ]
    }
   ],
   "source": [
    "print(f'{number1} {number2} {number3}')"
   ]
  },
  {
   "cell_type": "markdown",
   "id": "68c16cb6-d066-4ed1-a3a0-d595906061a6",
   "metadata": {},
   "source": [
    "#### Swapping Values Via Packing and Unpacking"
   ]
  },
  {
   "cell_type": "code",
   "execution_count": 72,
   "id": "26d5f257-a709-4e7a-b3b9-745411525a92",
   "metadata": {},
   "outputs": [],
   "source": [
    "number1 = 99"
   ]
  },
  {
   "cell_type": "code",
   "execution_count": 73,
   "id": "1e75bac6-7b2c-447d-b321-698eef21ec7e",
   "metadata": {},
   "outputs": [],
   "source": [
    "number2 = 22"
   ]
  },
  {
   "cell_type": "code",
   "execution_count": 74,
   "id": "d083ecce-5d61-4054-88fa-f5d82704e72a",
   "metadata": {},
   "outputs": [],
   "source": [
    "number1, number2 = (number2, number1)"
   ]
  },
  {
   "cell_type": "code",
   "execution_count": 75,
   "id": "ee318bef-5754-4568-94f0-4430db14a180",
   "metadata": {},
   "outputs": [
    {
     "name": "stdout",
     "output_type": "stream",
     "text": [
      "number1 = 22; number2 = 99\n"
     ]
    }
   ],
   "source": [
    "print(f'number1 = {number1}; number2 = {number2}')"
   ]
  },
  {
   "cell_type": "markdown",
   "id": "65c7d713-99a3-4368-a605-505c066e744e",
   "metadata": {},
   "source": [
    "#### Accessing Indices and Values Safely with Built-in Functions enumerate"
   ]
  },
  {
   "cell_type": "code",
   "execution_count": 76,
   "id": "8bf788bd-4248-4d42-80dd-339dfaa67504",
   "metadata": {},
   "outputs": [],
   "source": [
    "colors = ['red', 'orange', 'yellow']"
   ]
  },
  {
   "cell_type": "code",
   "execution_count": 77,
   "id": "32a7e24a-266c-44c9-9401-8a891cfd1dd2",
   "metadata": {},
   "outputs": [
    {
     "data": {
      "text/plain": [
       "[(0, 'red'), (1, 'orange'), (2, 'yellow')]"
      ]
     },
     "execution_count": 77,
     "metadata": {},
     "output_type": "execute_result"
    }
   ],
   "source": [
    "list(enumerate(colors))"
   ]
  },
  {
   "cell_type": "code",
   "execution_count": 78,
   "id": "69c7a3a0-2bae-4a4d-8929-6767090cfada",
   "metadata": {},
   "outputs": [
    {
     "data": {
      "text/plain": [
       "((0, 'red'), (1, 'orange'), (2, 'yellow'))"
      ]
     },
     "execution_count": 78,
     "metadata": {},
     "output_type": "execute_result"
    }
   ],
   "source": [
    "tuple(enumerate(colors))"
   ]
  },
  {
   "cell_type": "code",
   "execution_count": 79,
   "id": "86c298a1-9140-4d4b-b385-2b31d495f81a",
   "metadata": {},
   "outputs": [
    {
     "name": "stdout",
     "output_type": "stream",
     "text": [
      "0: red\n",
      "1: orange\n",
      "2: yellow\n"
     ]
    }
   ],
   "source": [
    "for index, value in enumerate(colors):\n",
    "    print(f'{index}: {value}')"
   ]
  },
  {
   "cell_type": "markdown",
   "id": "c3b36236-db39-4f94-96e9-ffdf5716cca5",
   "metadata": {},
   "source": [
    "#### Creating a Primitive Bar Chart"
   ]
  },
  {
   "cell_type": "markdown",
   "id": "b6df7e63-efbf-4390-abd5-65e625f4286f",
   "metadata": {},
   "source": [
    "use ipython fig05_01.oy to view the code and run the program to see a primitive bar chart. "
   ]
  },
  {
   "cell_type": "markdown",
   "id": "5bdd0884-3fa5-4ff9-b517-e457674a8710",
   "metadata": {},
   "source": [
    "## 5.5 - Sequence Slicing"
   ]
  },
  {
   "cell_type": "markdown",
   "id": "092a0388-ce97-49ce-930f-78c86c981419",
   "metadata": {},
   "source": [
    "#### Specifying a Slice with Starting and Ending Indices"
   ]
  },
  {
   "cell_type": "code",
   "execution_count": 80,
   "id": "92f92138-ecb2-4145-8c1b-a365544efe5b",
   "metadata": {},
   "outputs": [],
   "source": [
    "numbers = [2, 3, 5, 7, 11, 13, 17, 19]"
   ]
  },
  {
   "cell_type": "code",
   "execution_count": 81,
   "id": "f7faaa11-bab7-443b-89a8-7c686afe4eff",
   "metadata": {},
   "outputs": [
    {
     "data": {
      "text/plain": [
       "[5, 7, 11, 13]"
      ]
     },
     "execution_count": 81,
     "metadata": {},
     "output_type": "execute_result"
    }
   ],
   "source": [
    "numbers[2:6]"
   ]
  },
  {
   "cell_type": "markdown",
   "id": "86fcf02d-4d16-4ca6-bbf4-eacad0c5a291",
   "metadata": {},
   "source": [
    "#### Specifying a Slice with Only an Ending Index"
   ]
  },
  {
   "cell_type": "markdown",
   "id": "1d986aaa-3fa9-4b8f-b775-48e3214927e1",
   "metadata": {},
   "source": [
    "If you omit the beginning, python assumes you are starting from the first number in the index"
   ]
  },
  {
   "cell_type": "code",
   "execution_count": 82,
   "id": "0ef6b40b-538e-4c8b-adce-d683376c060b",
   "metadata": {},
   "outputs": [
    {
     "data": {
      "text/plain": [
       "[2, 3, 5, 7, 11, 13]"
      ]
     },
     "execution_count": 82,
     "metadata": {},
     "output_type": "execute_result"
    }
   ],
   "source": [
    "numbers[:6]"
   ]
  },
  {
   "cell_type": "code",
   "execution_count": 83,
   "id": "c866b84c-9109-4729-83fe-33bb4ff62c2d",
   "metadata": {},
   "outputs": [
    {
     "data": {
      "text/plain": [
       "[2, 3, 5, 7, 11, 13]"
      ]
     },
     "execution_count": 83,
     "metadata": {},
     "output_type": "execute_result"
    }
   ],
   "source": [
    "numbers[0:6]"
   ]
  },
  {
   "cell_type": "markdown",
   "id": "16c066ba-e4ed-40e1-a72b-52da5890ea29",
   "metadata": {},
   "source": [
    "#### Specifying a Slice with Only a Starting Index"
   ]
  },
  {
   "cell_type": "markdown",
   "id": "ab4ac22c-df23-4141-ac06-7b60925287d7",
   "metadata": {},
   "source": [
    "If you omit the ending, python assumes you are asking for the length"
   ]
  },
  {
   "cell_type": "code",
   "execution_count": 84,
   "id": "b169a556-c22a-4f7d-9ca3-2d780542dc9a",
   "metadata": {},
   "outputs": [
    {
     "data": {
      "text/plain": [
       "[17, 19]"
      ]
     },
     "execution_count": 84,
     "metadata": {},
     "output_type": "execute_result"
    }
   ],
   "source": [
    "numbers[6:]"
   ]
  },
  {
   "cell_type": "code",
   "execution_count": 85,
   "id": "ec7e9dd4-b23c-4af8-93e7-030eeced29e4",
   "metadata": {},
   "outputs": [
    {
     "data": {
      "text/plain": [
       "[17, 19]"
      ]
     },
     "execution_count": 85,
     "metadata": {},
     "output_type": "execute_result"
    }
   ],
   "source": [
    "numbers[6:len(numbers)]"
   ]
  },
  {
   "cell_type": "markdown",
   "id": "5347a8bc-0d63-4172-ab64-82c3bade4fd1",
   "metadata": {},
   "source": [
    "#### Slicing with Steps"
   ]
  },
  {
   "cell_type": "code",
   "execution_count": 86,
   "id": "06f25643-5ca2-4a08-9533-42aab3df9b54",
   "metadata": {},
   "outputs": [
    {
     "data": {
      "text/plain": [
       "[2, 5, 11, 17]"
      ]
     },
     "execution_count": 86,
     "metadata": {},
     "output_type": "execute_result"
    }
   ],
   "source": [
    "numbers[::2]"
   ]
  },
  {
   "cell_type": "markdown",
   "id": "877b6638-b731-4510-8226-91898a6dcaac",
   "metadata": {},
   "source": [
    "#### Slicing with Negative Indices and Steps"
   ]
  },
  {
   "cell_type": "code",
   "execution_count": 87,
   "id": "4a58dd0e-7ebd-4168-882f-3703a8991d82",
   "metadata": {},
   "outputs": [
    {
     "data": {
      "text/plain": [
       "[19, 17, 13, 11, 7, 5, 3, 2]"
      ]
     },
     "execution_count": 87,
     "metadata": {},
     "output_type": "execute_result"
    }
   ],
   "source": [
    "numbers[::-1]"
   ]
  },
  {
   "cell_type": "code",
   "execution_count": 88,
   "id": "bb6790dd-42d8-4619-90d4-ef2b2f724f30",
   "metadata": {},
   "outputs": [
    {
     "data": {
      "text/plain": [
       "[19, 17, 13, 11, 7, 5, 3, 2]"
      ]
     },
     "execution_count": 88,
     "metadata": {},
     "output_type": "execute_result"
    }
   ],
   "source": [
    "numbers[-1:-9:-1]"
   ]
  },
  {
   "cell_type": "markdown",
   "id": "0c5af8c4-e1a1-44c7-b83c-4b56a53c56a5",
   "metadata": {},
   "source": [
    "#### Modifying Lists Via Slices"
   ]
  },
  {
   "cell_type": "code",
   "execution_count": 89,
   "id": "6de40cb0-105e-41fe-afcb-25280fe40c1f",
   "metadata": {},
   "outputs": [],
   "source": [
    "numbers[0:3] = ['two', 'three', 'five'] ## This code replaces the first three elements"
   ]
  },
  {
   "cell_type": "code",
   "execution_count": 90,
   "id": "0b2c4acd-8ce8-4b38-8419-b696100c7faf",
   "metadata": {},
   "outputs": [
    {
     "data": {
      "text/plain": [
       "['two', 'three', 'five', 7, 11, 13, 17, 19]"
      ]
     },
     "execution_count": 90,
     "metadata": {},
     "output_type": "execute_result"
    }
   ],
   "source": [
    "numbers"
   ]
  },
  {
   "cell_type": "code",
   "execution_count": 91,
   "id": "b2e42552-33b8-437c-814d-384ee90c0b61",
   "metadata": {},
   "outputs": [],
   "source": [
    "numbers[0:3] = [] ## This code deletes the first three elements"
   ]
  },
  {
   "cell_type": "code",
   "execution_count": 92,
   "id": "4753fbda-d0f5-4a2b-a243-899148ac8d03",
   "metadata": {},
   "outputs": [
    {
     "data": {
      "text/plain": [
       "[7, 11, 13, 17, 19]"
      ]
     },
     "execution_count": 92,
     "metadata": {},
     "output_type": "execute_result"
    }
   ],
   "source": [
    "numbers"
   ]
  },
  {
   "cell_type": "code",
   "execution_count": 93,
   "id": "18172369-1847-4d03-9666-3c5814b818af",
   "metadata": {},
   "outputs": [],
   "source": [
    "numbers = [2, 3, 5, 7, 11, 13, 17, 19]"
   ]
  },
  {
   "cell_type": "code",
   "execution_count": 94,
   "id": "f16280fd-502a-4bbe-8f9c-80166976cdc8",
   "metadata": {},
   "outputs": [],
   "source": [
    "numbers[::2] = [100, 100, 100, 100] ## This code assigns the added elements to every other element of numbers"
   ]
  },
  {
   "cell_type": "code",
   "execution_count": 95,
   "id": "a385aa5e-d6ed-4d9c-84e5-aabf7102a8f7",
   "metadata": {},
   "outputs": [
    {
     "data": {
      "text/plain": [
       "[100, 3, 100, 7, 100, 13, 100, 19]"
      ]
     },
     "execution_count": 95,
     "metadata": {},
     "output_type": "execute_result"
    }
   ],
   "source": [
    "numbers"
   ]
  },
  {
   "cell_type": "code",
   "execution_count": 96,
   "id": "57c38067-7b27-43e9-b27c-e8e9cccd141e",
   "metadata": {},
   "outputs": [
    {
     "data": {
      "text/plain": [
       "3068277274688"
      ]
     },
     "execution_count": 96,
     "metadata": {},
     "output_type": "execute_result"
    }
   ],
   "source": [
    "id(numbers)"
   ]
  },
  {
   "cell_type": "code",
   "execution_count": 97,
   "id": "29ca383b-291a-4484-af7b-d40f7f76f288",
   "metadata": {},
   "outputs": [],
   "source": [
    "numbers[:] = []"
   ]
  },
  {
   "cell_type": "code",
   "execution_count": 98,
   "id": "3a63965d-af3e-44c5-8f94-381373f810ad",
   "metadata": {},
   "outputs": [
    {
     "data": {
      "text/plain": [
       "[]"
      ]
     },
     "execution_count": 98,
     "metadata": {},
     "output_type": "execute_result"
    }
   ],
   "source": [
    "numbers"
   ]
  },
  {
   "cell_type": "code",
   "execution_count": 99,
   "id": "b6f24c0f-529b-4906-9a71-a0026d77429b",
   "metadata": {},
   "outputs": [
    {
     "data": {
      "text/plain": [
       "3068277274688"
      ]
     },
     "execution_count": 99,
     "metadata": {},
     "output_type": "execute_result"
    }
   ],
   "source": [
    "id(numbers)"
   ]
  },
  {
   "cell_type": "code",
   "execution_count": 100,
   "id": "50c6c71d-ffb8-495c-b19e-b2e84e02a951",
   "metadata": {},
   "outputs": [],
   "source": [
    "numbers = []"
   ]
  },
  {
   "cell_type": "code",
   "execution_count": 101,
   "id": "00a6b392-0fc2-44c2-b53b-e1b17108ff38",
   "metadata": {},
   "outputs": [
    {
     "data": {
      "text/plain": [
       "[]"
      ]
     },
     "execution_count": 101,
     "metadata": {},
     "output_type": "execute_result"
    }
   ],
   "source": [
    "numbers"
   ]
  },
  {
   "cell_type": "code",
   "execution_count": 102,
   "id": "8061e32b-a42e-47a4-9dc4-4a0719e66b4d",
   "metadata": {},
   "outputs": [
    {
     "data": {
      "text/plain": [
       "3068277273600"
      ]
     },
     "execution_count": 102,
     "metadata": {},
     "output_type": "execute_result"
    }
   ],
   "source": [
    "id(numbers)"
   ]
  },
  {
   "cell_type": "markdown",
   "id": "6ebbb170-6f0a-4f74-885b-d529a2d93694",
   "metadata": {},
   "source": [
    "## 5.6 - del Statement"
   ]
  },
  {
   "cell_type": "markdown",
   "id": "2ef89a98-67ea-45d0-b282-b27e8ab88d41",
   "metadata": {},
   "source": [
    "#### Deleting the Element at a Specific List Index"
   ]
  },
  {
   "cell_type": "code",
   "execution_count": 103,
   "id": "992b164b-d68c-45f3-b1f4-b428ccbdb212",
   "metadata": {},
   "outputs": [],
   "source": [
    "numbers = list(range(0, 10))"
   ]
  },
  {
   "cell_type": "code",
   "execution_count": 104,
   "id": "1ba3a38f-b66d-4ef9-ae33-7d004cf6d13d",
   "metadata": {},
   "outputs": [
    {
     "data": {
      "text/plain": [
       "[0, 1, 2, 3, 4, 5, 6, 7, 8, 9]"
      ]
     },
     "execution_count": 104,
     "metadata": {},
     "output_type": "execute_result"
    }
   ],
   "source": [
    "numbers"
   ]
  },
  {
   "cell_type": "code",
   "execution_count": 105,
   "id": "62ebe030-e108-4881-b2f8-26993566c9dc",
   "metadata": {},
   "outputs": [],
   "source": [
    "del numbers[-1]"
   ]
  },
  {
   "cell_type": "code",
   "execution_count": 106,
   "id": "c25ac4ba-086f-41c6-9f47-37fc4ce54ade",
   "metadata": {},
   "outputs": [
    {
     "data": {
      "text/plain": [
       "[0, 1, 2, 3, 4, 5, 6, 7, 8]"
      ]
     },
     "execution_count": 106,
     "metadata": {},
     "output_type": "execute_result"
    }
   ],
   "source": [
    "numbers"
   ]
  },
  {
   "cell_type": "markdown",
   "id": "12e09816-f8bc-492c-8a4a-7443c6fa712e",
   "metadata": {},
   "source": [
    "#### Deleting a Slice from a List"
   ]
  },
  {
   "cell_type": "code",
   "execution_count": 107,
   "id": "3418008a-789a-4542-a6d8-9a6e99b3ce73",
   "metadata": {},
   "outputs": [],
   "source": [
    "del numbers[0:2] ## This deletes the lists first two elements"
   ]
  },
  {
   "cell_type": "code",
   "execution_count": 108,
   "id": "e550226b-7a7b-4a85-b431-7caf76e22b52",
   "metadata": {},
   "outputs": [
    {
     "data": {
      "text/plain": [
       "[2, 3, 4, 5, 6, 7, 8]"
      ]
     },
     "execution_count": 108,
     "metadata": {},
     "output_type": "execute_result"
    }
   ],
   "source": [
    "numbers"
   ]
  },
  {
   "cell_type": "code",
   "execution_count": 109,
   "id": "3e6191c9-4ce6-4134-8a82-aebf4121c63c",
   "metadata": {},
   "outputs": [],
   "source": [
    "del numbers[::2] ## This deletes every other element from the entire list"
   ]
  },
  {
   "cell_type": "code",
   "execution_count": 110,
   "id": "beafa41e-16b5-4131-829b-b2e651627fc2",
   "metadata": {},
   "outputs": [
    {
     "data": {
      "text/plain": [
       "[3, 5, 7]"
      ]
     },
     "execution_count": 110,
     "metadata": {},
     "output_type": "execute_result"
    }
   ],
   "source": [
    "numbers"
   ]
  },
  {
   "cell_type": "markdown",
   "id": "c6c97798-f284-4ea8-9c39-37fca94fe4bb",
   "metadata": {},
   "source": [
    "#### Deleting a Slice Representing the Entire List"
   ]
  },
  {
   "cell_type": "code",
   "execution_count": 111,
   "id": "9ef56b5f-9f54-41b2-95be-315e8e51aa3d",
   "metadata": {},
   "outputs": [],
   "source": [
    "del numbers[:]"
   ]
  },
  {
   "cell_type": "code",
   "execution_count": 112,
   "id": "2b6963cb-7e80-4f79-a40e-f82c1024b8fd",
   "metadata": {},
   "outputs": [
    {
     "data": {
      "text/plain": [
       "[]"
      ]
     },
     "execution_count": 112,
     "metadata": {},
     "output_type": "execute_result"
    }
   ],
   "source": [
    "numbers"
   ]
  },
  {
   "cell_type": "markdown",
   "id": "f60dd5aa-1795-4d73-bf09-de217102f0e6",
   "metadata": {},
   "source": [
    "#### Deleting a Variable from the Current Sessions"
   ]
  },
  {
   "cell_type": "code",
   "execution_count": 113,
   "id": "55f1fac3-8489-4960-becc-a761f08f7a9f",
   "metadata": {},
   "outputs": [],
   "source": [
    "##del numbers\n",
    "\n",
    "## This code deletes the whole variable \"numbers\"\n",
    "\n",
    "## Running this code will result in a NameError. "
   ]
  },
  {
   "cell_type": "markdown",
   "id": "a9bc7555-dde9-4eba-b75c-b01f067ae85d",
   "metadata": {},
   "source": [
    "## 5.7 - Passing Lists to Functions"
   ]
  },
  {
   "cell_type": "markdown",
   "id": "89b05969-51ec-430d-abd2-78823540999d",
   "metadata": {},
   "source": [
    "#### Passing an Entire List to a Functions"
   ]
  },
  {
   "cell_type": "code",
   "execution_count": 114,
   "id": "0691ed24-ee80-48f5-88d0-d716c4a76687",
   "metadata": {},
   "outputs": [],
   "source": [
    "def modify_element(items):\n",
    "    ####Multiples all elements values in items by 2.\n",
    "    for i in range(len(items)):\n",
    "        items[i] *=2"
   ]
  },
  {
   "cell_type": "code",
   "execution_count": 115,
   "id": "e0aad18a-c807-475b-9db9-af7f240946d5",
   "metadata": {},
   "outputs": [],
   "source": [
    "numbers = [10, 3, 7, 1, 9]"
   ]
  },
  {
   "cell_type": "code",
   "execution_count": 116,
   "id": "0c096b61-50fe-40bf-9a01-18ca61c2cf0f",
   "metadata": {},
   "outputs": [],
   "source": [
    "modify_element(numbers)"
   ]
  },
  {
   "cell_type": "code",
   "execution_count": 117,
   "id": "6e896fc4-8825-4a05-b56c-eb7cf34bb74a",
   "metadata": {},
   "outputs": [
    {
     "data": {
      "text/plain": [
       "[20, 6, 14, 2, 18]"
      ]
     },
     "execution_count": 117,
     "metadata": {},
     "output_type": "execute_result"
    }
   ],
   "source": [
    "numbers"
   ]
  },
  {
   "cell_type": "markdown",
   "id": "927d546c-e530-482d-a14c-89f98a09310d",
   "metadata": {},
   "source": [
    "#### Passing a Tuple to a Function"
   ]
  },
  {
   "cell_type": "code",
   "execution_count": 118,
   "id": "042f2817-f37e-4a77-a62b-d0ba32723cb0",
   "metadata": {},
   "outputs": [],
   "source": [
    "numbers_tuple = (10, 20, 30)"
   ]
  },
  {
   "cell_type": "code",
   "execution_count": 119,
   "id": "785e3816-b972-44d7-a08f-ca1e8595f078",
   "metadata": {},
   "outputs": [
    {
     "data": {
      "text/plain": [
       "(10, 20, 30)"
      ]
     },
     "execution_count": 119,
     "metadata": {},
     "output_type": "execute_result"
    }
   ],
   "source": [
    "numbers_tuple"
   ]
  },
  {
   "cell_type": "code",
   "execution_count": 120,
   "id": "8aa6a488-9e06-430b-9ff9-d4f5d69219ec",
   "metadata": {},
   "outputs": [],
   "source": [
    "### modify_elements(numbers_tuple) \n",
    "### This results in a TypeError"
   ]
  },
  {
   "cell_type": "markdown",
   "id": "52a42e8d-cce4-4ec3-a34b-bf5b8c18a0d4",
   "metadata": {},
   "source": [
    "## 5.8 - Sorting Lists"
   ]
  },
  {
   "cell_type": "markdown",
   "id": "b7d6b4fc-b54d-4832-b8f7-7e7f114037e4",
   "metadata": {},
   "source": [
    "#### Sorting a List in Ascending Order"
   ]
  },
  {
   "cell_type": "code",
   "execution_count": 121,
   "id": "a61efb85-7e71-4783-8725-56a496d6a60f",
   "metadata": {},
   "outputs": [],
   "source": [
    "numbers = [10, 3, 7, 1, 9, 4, 2, 8, 5, 6]"
   ]
  },
  {
   "cell_type": "code",
   "execution_count": 122,
   "id": "028ac626-9793-440e-a918-0c330caca765",
   "metadata": {},
   "outputs": [],
   "source": [
    "numbers.sort()"
   ]
  },
  {
   "cell_type": "code",
   "execution_count": 123,
   "id": "e5801b8e-5033-4c61-914e-8a7f69cfdcc7",
   "metadata": {},
   "outputs": [
    {
     "data": {
      "text/plain": [
       "[1, 2, 3, 4, 5, 6, 7, 8, 9, 10]"
      ]
     },
     "execution_count": 123,
     "metadata": {},
     "output_type": "execute_result"
    }
   ],
   "source": [
    "numbers"
   ]
  },
  {
   "cell_type": "markdown",
   "id": "1c5b8bdc-90f8-442b-898a-105236cec652",
   "metadata": {},
   "source": [
    "#### Sorting a List in Descending Order"
   ]
  },
  {
   "cell_type": "code",
   "execution_count": 124,
   "id": "f79c74f9-9d4e-4177-9d86-7731fb7ce280",
   "metadata": {},
   "outputs": [],
   "source": [
    "numbers.sort(reverse=True)"
   ]
  },
  {
   "cell_type": "code",
   "execution_count": 125,
   "id": "5d5ba76b-5ae9-44d2-bd67-3a96fdf6e292",
   "metadata": {},
   "outputs": [
    {
     "data": {
      "text/plain": [
       "[10, 9, 8, 7, 6, 5, 4, 3, 2, 1]"
      ]
     },
     "execution_count": 125,
     "metadata": {},
     "output_type": "execute_result"
    }
   ],
   "source": [
    "numbers"
   ]
  },
  {
   "cell_type": "markdown",
   "id": "d177e328-0405-4e63-8e88-a78eb7a034f8",
   "metadata": {},
   "source": [
    "#### Built-In Function sorted"
   ]
  },
  {
   "cell_type": "code",
   "execution_count": 126,
   "id": "f93e7cd1-c59e-4653-9f41-a6d1a6632930",
   "metadata": {},
   "outputs": [],
   "source": [
    "numbers = [10, 3, 7, 1, 9, 4, 2, 8, 5, 6]"
   ]
  },
  {
   "cell_type": "code",
   "execution_count": 127,
   "id": "544c0cd3-82b0-4434-98c4-14ea2efdd417",
   "metadata": {},
   "outputs": [],
   "source": [
    "ascending_numbers = sorted(numbers)"
   ]
  },
  {
   "cell_type": "code",
   "execution_count": 128,
   "id": "df246a6e-eb50-4f91-b941-2e81d52c15fc",
   "metadata": {},
   "outputs": [
    {
     "data": {
      "text/plain": [
       "[1, 2, 3, 4, 5, 6, 7, 8, 9, 10]"
      ]
     },
     "execution_count": 128,
     "metadata": {},
     "output_type": "execute_result"
    }
   ],
   "source": [
    "ascending_numbers"
   ]
  },
  {
   "cell_type": "code",
   "execution_count": 129,
   "id": "b0608fdb-589f-4797-b85f-cb7f27cdff84",
   "metadata": {},
   "outputs": [
    {
     "data": {
      "text/plain": [
       "[10, 3, 7, 1, 9, 4, 2, 8, 5, 6]"
      ]
     },
     "execution_count": 129,
     "metadata": {},
     "output_type": "execute_result"
    }
   ],
   "source": [
    "numbers"
   ]
  },
  {
   "cell_type": "code",
   "execution_count": 130,
   "id": "e2b3d6b8-4d9a-4a95-9b88-10a9bdd5ef62",
   "metadata": {},
   "outputs": [],
   "source": [
    "letters = 'Fadgchjebi'"
   ]
  },
  {
   "cell_type": "code",
   "execution_count": 131,
   "id": "cf4137a2-a2c4-41ac-af8d-f2d62aee9884",
   "metadata": {},
   "outputs": [],
   "source": [
    "ascending_letters = sorted(letters)"
   ]
  },
  {
   "cell_type": "code",
   "execution_count": 132,
   "id": "e80c893e-f7a4-4f2a-a097-a6fcf72007c7",
   "metadata": {},
   "outputs": [
    {
     "data": {
      "text/plain": [
       "['F', 'a', 'b', 'c', 'd', 'e', 'g', 'h', 'i', 'j']"
      ]
     },
     "execution_count": 132,
     "metadata": {},
     "output_type": "execute_result"
    }
   ],
   "source": [
    "ascending_letters"
   ]
  },
  {
   "cell_type": "code",
   "execution_count": 133,
   "id": "6bac12b6-6443-4fd4-9541-683b59e2c7de",
   "metadata": {},
   "outputs": [
    {
     "data": {
      "text/plain": [
       "'Fadgchjebi'"
      ]
     },
     "execution_count": 133,
     "metadata": {},
     "output_type": "execute_result"
    }
   ],
   "source": [
    "letters"
   ]
  },
  {
   "cell_type": "code",
   "execution_count": 134,
   "id": "5d384c20-b1c3-41f4-9de5-e08728b0f76b",
   "metadata": {},
   "outputs": [],
   "source": [
    "colors = ('red', 'orange', 'yellow', 'green', 'blue')"
   ]
  },
  {
   "cell_type": "code",
   "execution_count": 135,
   "id": "2836d39e-4673-497d-9d3e-66cea785f65f",
   "metadata": {},
   "outputs": [],
   "source": [
    "ascending_colors = sorted(colors)"
   ]
  },
  {
   "cell_type": "code",
   "execution_count": 136,
   "id": "85a11520-5c61-4b40-a408-2527a9b22754",
   "metadata": {},
   "outputs": [
    {
     "data": {
      "text/plain": [
       "['blue', 'green', 'orange', 'red', 'yellow']"
      ]
     },
     "execution_count": 136,
     "metadata": {},
     "output_type": "execute_result"
    }
   ],
   "source": [
    "ascending_colors"
   ]
  },
  {
   "cell_type": "code",
   "execution_count": 137,
   "id": "b7674fa0-ff3e-43db-8c69-a878a67fa218",
   "metadata": {},
   "outputs": [
    {
     "data": {
      "text/plain": [
       "('red', 'orange', 'yellow', 'green', 'blue')"
      ]
     },
     "execution_count": 137,
     "metadata": {},
     "output_type": "execute_result"
    }
   ],
   "source": [
    "colors"
   ]
  },
  {
   "cell_type": "markdown",
   "id": "05131cb6-ac85-4082-b956-f13235f145f3",
   "metadata": {},
   "source": [
    "## 5.9 - Searching Sequences"
   ]
  },
  {
   "cell_type": "markdown",
   "id": "45c5ce2d-337d-4daa-bd60-57420f469459",
   "metadata": {},
   "source": [
    "#### List Method index"
   ]
  },
  {
   "cell_type": "code",
   "execution_count": 138,
   "id": "9fc924eb-9d29-4fb3-b099-91c107a53cdb",
   "metadata": {},
   "outputs": [],
   "source": [
    "numbers = [3, 7, 1, 4, 2, 8, 5, 6]"
   ]
  },
  {
   "cell_type": "code",
   "execution_count": 139,
   "id": "c333998e-03d5-4e40-adc0-3536e03b03c8",
   "metadata": {},
   "outputs": [
    {
     "data": {
      "text/plain": [
       "6"
      ]
     },
     "execution_count": 139,
     "metadata": {},
     "output_type": "execute_result"
    }
   ],
   "source": [
    "numbers.index(5)"
   ]
  },
  {
   "cell_type": "markdown",
   "id": "d8dd0641-2662-4e41-843e-055c1004b3a5",
   "metadata": {},
   "source": [
    "#### Specifying the Staring Index of a Search"
   ]
  },
  {
   "cell_type": "code",
   "execution_count": 140,
   "id": "f217b381-7c6b-4d44-94bb-1cccbe063a91",
   "metadata": {},
   "outputs": [],
   "source": [
    "numbers *= 2"
   ]
  },
  {
   "cell_type": "code",
   "execution_count": 141,
   "id": "d6a99e0e-05f8-43a2-8069-65dd40fc92b2",
   "metadata": {},
   "outputs": [
    {
     "data": {
      "text/plain": [
       "[3, 7, 1, 4, 2, 8, 5, 6, 3, 7, 1, 4, 2, 8, 5, 6]"
      ]
     },
     "execution_count": 141,
     "metadata": {},
     "output_type": "execute_result"
    }
   ],
   "source": [
    "numbers"
   ]
  },
  {
   "cell_type": "code",
   "execution_count": 142,
   "id": "1e95c0ed-b20a-494f-ab52-b1b11e6ffb63",
   "metadata": {},
   "outputs": [
    {
     "data": {
      "text/plain": [
       "14"
      ]
     },
     "execution_count": 142,
     "metadata": {},
     "output_type": "execute_result"
    }
   ],
   "source": [
    "numbers.index(5, 7) ## This code searches for the value 5 started  from index 7"
   ]
  },
  {
   "cell_type": "markdown",
   "id": "7125f964-6e04-4362-9b96-c5e2757a50f7",
   "metadata": {},
   "source": [
    "#### Specifying the Starting and Ending Indices of a Search"
   ]
  },
  {
   "cell_type": "code",
   "execution_count": 143,
   "id": "5b07f914-e47f-4888-9beb-c1cac7632bef",
   "metadata": {},
   "outputs": [
    {
     "data": {
      "text/plain": [
       "14"
      ]
     },
     "execution_count": 143,
     "metadata": {},
     "output_type": "execute_result"
    }
   ],
   "source": [
    "numbers.index(5, 7)"
   ]
  },
  {
   "cell_type": "code",
   "execution_count": 144,
   "id": "59d498f0-5e1a-41b2-a660-695005cbc9a2",
   "metadata": {},
   "outputs": [
    {
     "data": {
      "text/plain": [
       "1"
      ]
     },
     "execution_count": 144,
     "metadata": {},
     "output_type": "execute_result"
    }
   ],
   "source": [
    "numbers.index(7, 0, 4)"
   ]
  },
  {
   "cell_type": "markdown",
   "id": "04432de2-04ab-450e-9126-79ca3d3b4a95",
   "metadata": {},
   "source": [
    "#### Operators in and not in"
   ]
  },
  {
   "cell_type": "code",
   "execution_count": 145,
   "id": "afa1d47d-f270-4838-bd2b-5c8d61ab5828",
   "metadata": {},
   "outputs": [
    {
     "data": {
      "text/plain": [
       "False"
      ]
     },
     "execution_count": 145,
     "metadata": {},
     "output_type": "execute_result"
    }
   ],
   "source": [
    "1000 in numbers ## This is asking if the value is in the numbers index"
   ]
  },
  {
   "cell_type": "code",
   "execution_count": 146,
   "id": "4a27a1ad-80fd-4155-8a4f-d7afd68d0a9d",
   "metadata": {},
   "outputs": [
    {
     "data": {
      "text/plain": [
       "True"
      ]
     },
     "execution_count": 146,
     "metadata": {},
     "output_type": "execute_result"
    }
   ],
   "source": [
    "5 in numbers"
   ]
  },
  {
   "cell_type": "code",
   "execution_count": 147,
   "id": "bacaf536-92e1-4f36-84bd-3c34b9caa175",
   "metadata": {},
   "outputs": [
    {
     "data": {
      "text/plain": [
       "True"
      ]
     },
     "execution_count": 147,
     "metadata": {},
     "output_type": "execute_result"
    }
   ],
   "source": [
    "1000 not in numbers ## This is asking if the value is NOT in the numbers index"
   ]
  },
  {
   "cell_type": "code",
   "execution_count": 148,
   "id": "18a5a1df-11e5-4bd3-87f9-481f3c37615c",
   "metadata": {},
   "outputs": [
    {
     "data": {
      "text/plain": [
       "False"
      ]
     },
     "execution_count": 148,
     "metadata": {},
     "output_type": "execute_result"
    }
   ],
   "source": [
    "5 not in numbers"
   ]
  },
  {
   "cell_type": "markdown",
   "id": "183a4db2-c803-45c4-89ed-cbe47b8ec45e",
   "metadata": {},
   "source": [
    "#### Using Operator in to Prevent a ValueError"
   ]
  },
  {
   "cell_type": "code",
   "execution_count": 149,
   "id": "7f32c03f-f91d-4c98-a667-fe3055f74b18",
   "metadata": {},
   "outputs": [],
   "source": [
    "key = 10000"
   ]
  },
  {
   "cell_type": "code",
   "execution_count": 150,
   "id": "a309a2ce-fe44-48a5-b85e-2dc208572fc6",
   "metadata": {},
   "outputs": [
    {
     "name": "stdout",
     "output_type": "stream",
     "text": [
      "10000 not found\n"
     ]
    }
   ],
   "source": [
    "if key in numbers:\n",
    "    print(f' found {key} at index {numbers.index(key)}')\n",
    "else:\n",
    "    print(f'{key} not found')"
   ]
  },
  {
   "cell_type": "markdown",
   "id": "a58d24b5-d878-4c77-ae4a-0d26d81a60b5",
   "metadata": {},
   "source": [
    "## 5.12 - List Comprehensions"
   ]
  },
  {
   "cell_type": "code",
   "execution_count": 151,
   "id": "bf7265de-5592-40a9-81d3-6b47859d8c72",
   "metadata": {},
   "outputs": [],
   "source": [
    "list1 = []"
   ]
  },
  {
   "cell_type": "code",
   "execution_count": 152,
   "id": "7582b5b5-93dc-4fd0-9b13-d8a0b4e41d7d",
   "metadata": {},
   "outputs": [],
   "source": [
    "for item in range(1, 6):\n",
    "    list1.append(item)"
   ]
  },
  {
   "cell_type": "code",
   "execution_count": 153,
   "id": "df764351-dbbb-4ced-9a62-4ab394028840",
   "metadata": {},
   "outputs": [
    {
     "data": {
      "text/plain": [
       "[1, 2, 3, 4, 5]"
      ]
     },
     "execution_count": 153,
     "metadata": {},
     "output_type": "execute_result"
    }
   ],
   "source": [
    "list1"
   ]
  },
  {
   "cell_type": "markdown",
   "id": "63dc84d4-7e06-40ac-85c6-d169175e3b39",
   "metadata": {},
   "source": [
    "#### Using a List Comprehension to Create a List of Integers"
   ]
  },
  {
   "cell_type": "code",
   "execution_count": 154,
   "id": "1dd4eb48-d633-40dc-97a8-3b6cbf9ef825",
   "metadata": {},
   "outputs": [],
   "source": [
    "list2 = [item for item in range(1,6)]"
   ]
  },
  {
   "cell_type": "code",
   "execution_count": 155,
   "id": "15dd88d9-de7c-4f08-a338-d4ecaadbcc15",
   "metadata": {},
   "outputs": [
    {
     "data": {
      "text/plain": [
       "[1, 2, 3, 4, 5]"
      ]
     },
     "execution_count": 155,
     "metadata": {},
     "output_type": "execute_result"
    }
   ],
   "source": [
    "list2"
   ]
  },
  {
   "cell_type": "markdown",
   "id": "95172de0-569a-4977-8f05-b5e059911611",
   "metadata": {},
   "source": [
    "#### Mapping: Performing Operations in a List COmprehension's Expression"
   ]
  },
  {
   "cell_type": "code",
   "execution_count": 156,
   "id": "dd935134-7bb1-4cb7-98dd-6bb57ab031cc",
   "metadata": {},
   "outputs": [],
   "source": [
    "list3 = [item ** 3 for item in range(1,6)]"
   ]
  },
  {
   "cell_type": "code",
   "execution_count": 157,
   "id": "2b110908-0163-4ca2-aafd-70799d2bfa1f",
   "metadata": {},
   "outputs": [
    {
     "data": {
      "text/plain": [
       "[1, 8, 27, 64, 125]"
      ]
     },
     "execution_count": 157,
     "metadata": {},
     "output_type": "execute_result"
    }
   ],
   "source": [
    "list3"
   ]
  },
  {
   "cell_type": "markdown",
   "id": "7a1eb092-a2f8-47f0-bb2b-ce49ef7b1635",
   "metadata": {},
   "source": [
    "#### Filtering: List Comprehensions with if Clauses"
   ]
  },
  {
   "cell_type": "code",
   "execution_count": 158,
   "id": "8ba1c07a-6af7-4c11-9074-bc9a06500919",
   "metadata": {},
   "outputs": [],
   "source": [
    "list4 = [item for item in range(1,11) if item % 2 == 0]"
   ]
  },
  {
   "cell_type": "code",
   "execution_count": 159,
   "id": "f8513c18-a7d0-4128-8c9b-21ca8dcd51bf",
   "metadata": {},
   "outputs": [
    {
     "data": {
      "text/plain": [
       "[2, 4, 6, 8, 10]"
      ]
     },
     "execution_count": 159,
     "metadata": {},
     "output_type": "execute_result"
    }
   ],
   "source": [
    "list4"
   ]
  },
  {
   "cell_type": "markdown",
   "id": "64a41cb2-e0be-4fc2-a880-88b59233ac9f",
   "metadata": {},
   "source": [
    "#### List Comprehension The Processes Another List's Elements"
   ]
  },
  {
   "cell_type": "code",
   "execution_count": 160,
   "id": "8a011e2a-ac18-4ba4-8386-b9f3f005438b",
   "metadata": {},
   "outputs": [],
   "source": [
    "colors = ['red', 'orange', 'yellow', 'green', 'blue']"
   ]
  },
  {
   "cell_type": "code",
   "execution_count": 161,
   "id": "cd133639-7e4c-487b-8739-b9ca53009d3a",
   "metadata": {},
   "outputs": [],
   "source": [
    "colors2 = [item.upper() for item in colors]"
   ]
  },
  {
   "cell_type": "code",
   "execution_count": 162,
   "id": "3967e20d-5d8b-4d93-b348-0ccb11b44bc4",
   "metadata": {},
   "outputs": [
    {
     "data": {
      "text/plain": [
       "['RED', 'ORANGE', 'YELLOW', 'GREEN', 'BLUE']"
      ]
     },
     "execution_count": 162,
     "metadata": {},
     "output_type": "execute_result"
    }
   ],
   "source": [
    "colors2"
   ]
  },
  {
   "cell_type": "code",
   "execution_count": 163,
   "id": "7d11474e-6814-45bc-90b9-b3f20932aa4f",
   "metadata": {},
   "outputs": [
    {
     "data": {
      "text/plain": [
       "['red', 'orange', 'yellow', 'green', 'blue']"
      ]
     },
     "execution_count": 163,
     "metadata": {},
     "output_type": "execute_result"
    }
   ],
   "source": [
    "colors"
   ]
  },
  {
   "cell_type": "markdown",
   "id": "e98a753c-20e2-496d-91b3-b9383931d6e1",
   "metadata": {},
   "source": [
    "## 5.14- Filter, Map and Reduce"
   ]
  },
  {
   "cell_type": "code",
   "execution_count": 164,
   "id": "82ed5a5d-c655-4951-8ee2-3e956594a8bb",
   "metadata": {},
   "outputs": [],
   "source": [
    "numbers = [10, 3, 7, 1, 9, 4, 2, 8, 5, 6]"
   ]
  },
  {
   "cell_type": "code",
   "execution_count": 165,
   "id": "8ebd8bc6-1604-41f7-95e1-c8d3b1ad5777",
   "metadata": {},
   "outputs": [],
   "source": [
    "def is_odd(x):\n",
    "    return x % 2 != 0 ## Returns True value only if x is odd. \n"
   ]
  },
  {
   "cell_type": "code",
   "execution_count": 166,
   "id": "48924aa6-f42c-4cbb-a62a-a98efda5df86",
   "metadata": {},
   "outputs": [
    {
     "data": {
      "text/plain": [
       "[3, 7, 1, 9, 5]"
      ]
     },
     "execution_count": 166,
     "metadata": {},
     "output_type": "execute_result"
    }
   ],
   "source": [
    "list(filter(is_odd, numbers))"
   ]
  },
  {
   "cell_type": "markdown",
   "id": "d2ac569d-4bf4-41ba-90e0-98d406dfe9e2",
   "metadata": {},
   "source": [
    "#### Using a lambda Rather than a Function"
   ]
  },
  {
   "cell_type": "code",
   "execution_count": 167,
   "id": "91817841-cbe6-4f8a-a3d3-b4b979a09549",
   "metadata": {},
   "outputs": [
    {
     "data": {
      "text/plain": [
       "[3, 7, 1, 9, 5]"
      ]
     },
     "execution_count": 167,
     "metadata": {},
     "output_type": "execute_result"
    }
   ],
   "source": [
    "list(filter(lambda x: x % 2 != 0, numbers))"
   ]
  },
  {
   "cell_type": "markdown",
   "id": "a8cb5f07-49b2-475a-84ca-5dbb4d2e61d6",
   "metadata": {},
   "source": [
    "#### Mapping a Sequence's Values to New Values"
   ]
  },
  {
   "cell_type": "code",
   "execution_count": 168,
   "id": "a61a49b9-946e-4131-a997-b606416afebf",
   "metadata": {},
   "outputs": [
    {
     "data": {
      "text/plain": [
       "[10, 3, 7, 1, 9, 4, 2, 8, 5, 6]"
      ]
     },
     "execution_count": 168,
     "metadata": {},
     "output_type": "execute_result"
    }
   ],
   "source": [
    "numbers"
   ]
  },
  {
   "cell_type": "code",
   "execution_count": 169,
   "id": "e0801c1f-7006-4342-a5c0-22739a2ce7f4",
   "metadata": {},
   "outputs": [
    {
     "data": {
      "text/plain": [
       "[100, 9, 49, 1, 81, 16, 4, 64, 25, 36]"
      ]
     },
     "execution_count": 169,
     "metadata": {},
     "output_type": "execute_result"
    }
   ],
   "source": [
    "list(map(lambda x: x ** 2, numbers))"
   ]
  },
  {
   "cell_type": "code",
   "execution_count": 170,
   "id": "df8bbf0a-9068-4777-a667-6362ba57442f",
   "metadata": {},
   "outputs": [
    {
     "data": {
      "text/plain": [
       "[100, 9, 49, 1, 81, 16, 4, 64, 25, 36]"
      ]
     },
     "execution_count": 170,
     "metadata": {},
     "output_type": "execute_result"
    }
   ],
   "source": [
    "[item **2 for item in numbers]"
   ]
  },
  {
   "cell_type": "markdown",
   "id": "1262d153-a25d-4e8b-a984-d0c018c2b972",
   "metadata": {},
   "source": [
    "#### Combining filter and map"
   ]
  },
  {
   "cell_type": "code",
   "execution_count": 171,
   "id": "646dd3ae-8439-43b7-9ef1-87fd2f68f016",
   "metadata": {},
   "outputs": [
    {
     "data": {
      "text/plain": [
       "[9, 49, 1, 81, 25]"
      ]
     },
     "execution_count": 171,
     "metadata": {},
     "output_type": "execute_result"
    }
   ],
   "source": [
    "list(map(lambda x: x ** 2,\n",
    "         filter(lambda x: x % 2 != 0, numbers)))"
   ]
  },
  {
   "cell_type": "code",
   "execution_count": 172,
   "id": "a84ad2d2-8093-4422-a8f3-39c0788c66d4",
   "metadata": {},
   "outputs": [
    {
     "data": {
      "text/plain": [
       "[9, 49, 1, 81, 25]"
      ]
     },
     "execution_count": 172,
     "metadata": {},
     "output_type": "execute_result"
    }
   ],
   "source": [
    "[x ** 2 for x in numbers if x % 2 != 0]"
   ]
  },
  {
   "cell_type": "markdown",
   "id": "3cb3173c-be07-4530-a07e-b7d6dcd0262c",
   "metadata": {},
   "source": [
    "## 5.16 - Two-Dimensional Lists"
   ]
  },
  {
   "cell_type": "markdown",
   "id": "c895261b-af26-4894-a374-afd93e806281",
   "metadata": {},
   "source": [
    "#### Creating a Two-Dimensional List"
   ]
  },
  {
   "cell_type": "code",
   "execution_count": 173,
   "id": "4db82d19-ff00-45a7-90fa-0727349e7464",
   "metadata": {},
   "outputs": [],
   "source": [
    "a = [[77, 68, 86, 73], [96, 87, 89, 81], [70, 90, 86, 81]]"
   ]
  },
  {
   "cell_type": "markdown",
   "id": "94af9558-9acf-4695-a4cc-c8cc76a5ecb1",
   "metadata": {},
   "source": [
    "#### Identifying the Elements in a Two-Dimensional List"
   ]
  },
  {
   "cell_type": "code",
   "execution_count": 174,
   "id": "df36482d-2ffe-4eac-a39c-2e5547281b78",
   "metadata": {},
   "outputs": [
    {
     "name": "stdout",
     "output_type": "stream",
     "text": [
      "77 68 86 73 \n",
      "96 87 89 81 \n",
      "70 90 86 81 \n"
     ]
    }
   ],
   "source": [
    "for row in a:\n",
    "    for item in row:\n",
    "        print(item, end=' ')\n",
    "    print()"
   ]
  },
  {
   "cell_type": "markdown",
   "id": "cfc8cb90-c746-4236-afa7-7767f626c6ed",
   "metadata": {},
   "source": [
    "#### How the Nested Loops Execute"
   ]
  },
  {
   "cell_type": "code",
   "execution_count": 175,
   "id": "b50f1446-2a51-4844-b6cb-fbc4283085cb",
   "metadata": {},
   "outputs": [
    {
     "name": "stdout",
     "output_type": "stream",
     "text": [
      "a[0][0] =77  a[0][1] =68  a[0][2] =86  a[0][3] =73  \n",
      "a[1][0] =96  a[1][1] =87  a[1][2] =89  a[1][3] =81  \n",
      "a[2][0] =70  a[2][1] =90  a[2][2] =86  a[2][3] =81  \n"
     ]
    }
   ],
   "source": [
    "for i, row in enumerate(a):\n",
    "    for j, item in enumerate(row):\n",
    "        print(f'a[{i}][{j}] ={item} ', end=' ')\n",
    "    print()"
   ]
  }
 ],
 "metadata": {
  "kernelspec": {
   "display_name": "Python 3 (ipykernel)",
   "language": "python",
   "name": "python3"
  },
  "language_info": {
   "codemirror_mode": {
    "name": "ipython",
    "version": 3
   },
   "file_extension": ".py",
   "mimetype": "text/x-python",
   "name": "python",
   "nbconvert_exporter": "python",
   "pygments_lexer": "ipython3",
   "version": "3.9.12"
  }
 },
 "nbformat": 4,
 "nbformat_minor": 5
}
