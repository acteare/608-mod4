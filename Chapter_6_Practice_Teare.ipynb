{
 "cells": [
  {
   "cell_type": "markdown",
   "id": "dc007213-cd4c-4418-8034-609b8e281d06",
   "metadata": {},
   "source": [
    "## 6.2 - Dictionaries"
   ]
  },
  {
   "cell_type": "markdown",
   "id": "5e9f6bb9-04cf-45bb-80d2-af8e96221404",
   "metadata": {},
   "source": [
    "#### 6.2.1 Creating a Dictionary"
   ]
  },
  {
   "cell_type": "code",
   "execution_count": 1,
   "id": "c1730017-e719-49a5-8b92-4458c36711ca",
   "metadata": {},
   "outputs": [],
   "source": [
    "country_codes = {'Finland': 'fi', 'South Africa': 'za', 'Nepal': 'np'}"
   ]
  },
  {
   "cell_type": "code",
   "execution_count": 2,
   "id": "a5ac5d01-fc4f-44e9-9da8-5542331ca2c5",
   "metadata": {},
   "outputs": [
    {
     "data": {
      "text/plain": [
       "{'Finland': 'fi', 'South Africa': 'za', 'Nepal': 'np'}"
      ]
     },
     "execution_count": 2,
     "metadata": {},
     "output_type": "execute_result"
    }
   ],
   "source": [
    "country_codes"
   ]
  },
  {
   "cell_type": "markdown",
   "id": "978a47f8-16ab-49a4-8f09-1e14666c16a4",
   "metadata": {},
   "source": [
    "#### Determining if a Dictionary is Empty"
   ]
  },
  {
   "cell_type": "code",
   "execution_count": 3,
   "id": "4fe45174-ca03-4610-a7ed-1bb1028c1bb7",
   "metadata": {},
   "outputs": [
    {
     "data": {
      "text/plain": [
       "3"
      ]
     },
     "execution_count": 3,
     "metadata": {},
     "output_type": "execute_result"
    }
   ],
   "source": [
    "len(country_codes)"
   ]
  },
  {
   "cell_type": "code",
   "execution_count": 4,
   "id": "dd85e37f-7933-45c8-8d79-d7c921ec3101",
   "metadata": {},
   "outputs": [
    {
     "name": "stdout",
     "output_type": "stream",
     "text": [
      "country_codes is not empty\n"
     ]
    }
   ],
   "source": [
    "if country_codes:\n",
    "    print('country_codes is not empty')\n",
    "else:\n",
    "    print('country_codes is empty')"
   ]
  },
  {
   "cell_type": "code",
   "execution_count": 5,
   "id": "70362e28-5e0a-45d7-9eaa-8794d967a3ea",
   "metadata": {},
   "outputs": [],
   "source": [
    "country_codes.clear()"
   ]
  },
  {
   "cell_type": "code",
   "execution_count": 6,
   "id": "d1e3f979-42dd-4ad8-b331-abafe22e23de",
   "metadata": {},
   "outputs": [
    {
     "name": "stdout",
     "output_type": "stream",
     "text": [
      "country_codes is empty\n"
     ]
    }
   ],
   "source": [
    "if country_codes:\n",
    "    print('country_codes is not empty')\n",
    "else:\n",
    "    print('country_codes is empty')"
   ]
  },
  {
   "cell_type": "markdown",
   "id": "35fdd02f-54a2-4946-8209-75d0a03e89b8",
   "metadata": {},
   "source": [
    "#### 6.2.2 Iterating through a Dictionary"
   ]
  },
  {
   "cell_type": "code",
   "execution_count": 7,
   "id": "e1872608-fedb-45a6-a5ad-cb0f6b6cfffc",
   "metadata": {},
   "outputs": [],
   "source": [
    "days_per_month = {'January': 31, 'February': 28, 'March': 31}"
   ]
  },
  {
   "cell_type": "code",
   "execution_count": 8,
   "id": "e03abd95-d28a-4ef3-8df1-d1f8e216c9a9",
   "metadata": {},
   "outputs": [
    {
     "data": {
      "text/plain": [
       "{'January': 31, 'February': 28, 'March': 31}"
      ]
     },
     "execution_count": 8,
     "metadata": {},
     "output_type": "execute_result"
    }
   ],
   "source": [
    "days_per_month"
   ]
  },
  {
   "cell_type": "code",
   "execution_count": 9,
   "id": "c9093790-3cc3-41ba-963b-c62c9d4014b6",
   "metadata": {},
   "outputs": [
    {
     "name": "stdout",
     "output_type": "stream",
     "text": [
      "January has 31 days\n",
      "February has 28 days\n",
      "March has 31 days\n"
     ]
    }
   ],
   "source": [
    "for month, days in days_per_month.items():\n",
    "    print(f'{month} has {days} days')"
   ]
  },
  {
   "cell_type": "markdown",
   "id": "88c4654b-3784-4378-9671-cf0c4b71f619",
   "metadata": {},
   "source": [
    "#### 6.2.3 Basic Dictionary Operations"
   ]
  },
  {
   "cell_type": "code",
   "execution_count": 10,
   "id": "41110d58-399b-41a5-a36b-af1be0a51ca0",
   "metadata": {},
   "outputs": [],
   "source": [
    "roman_numerals = {'I': 1, 'II': 2, 'III': 3, 'V': 5, 'X': 100}"
   ]
  },
  {
   "cell_type": "code",
   "execution_count": 11,
   "id": "e0e09774-f332-4ac0-a311-1e4f8f6dd3b0",
   "metadata": {},
   "outputs": [
    {
     "data": {
      "text/plain": [
       "{'I': 1, 'II': 2, 'III': 3, 'V': 5, 'X': 100}"
      ]
     },
     "execution_count": 11,
     "metadata": {},
     "output_type": "execute_result"
    }
   ],
   "source": [
    "roman_numerals"
   ]
  },
  {
   "cell_type": "markdown",
   "id": "3530182a-d1ac-42be-9f41-df3bb4ea564b",
   "metadata": {},
   "source": [
    "#### Accessing the Value Associated with a Key"
   ]
  },
  {
   "cell_type": "code",
   "execution_count": 12,
   "id": "56a3eec8-ec4b-4b1e-a10b-aebb9e8428ef",
   "metadata": {},
   "outputs": [
    {
     "data": {
      "text/plain": [
       "5"
      ]
     },
     "execution_count": 12,
     "metadata": {},
     "output_type": "execute_result"
    }
   ],
   "source": [
    "roman_numerals['V']"
   ]
  },
  {
   "cell_type": "markdown",
   "id": "73dfebb5-b201-4363-97ef-dbc60e8c0bef",
   "metadata": {},
   "source": [
    "#### Updating the Value of an Existing Key-Value Pair"
   ]
  },
  {
   "cell_type": "code",
   "execution_count": 13,
   "id": "8c494b6e-a4d4-47be-aeab-f99fa15ea1fa",
   "metadata": {},
   "outputs": [],
   "source": [
    "roman_numerals['X'] = 10"
   ]
  },
  {
   "cell_type": "code",
   "execution_count": 14,
   "id": "f239c37e-5e52-4b9e-a462-873ad0f99bbd",
   "metadata": {},
   "outputs": [
    {
     "data": {
      "text/plain": [
       "{'I': 1, 'II': 2, 'III': 3, 'V': 5, 'X': 10}"
      ]
     },
     "execution_count": 14,
     "metadata": {},
     "output_type": "execute_result"
    }
   ],
   "source": [
    "roman_numerals"
   ]
  },
  {
   "cell_type": "markdown",
   "id": "3efe54dd-309d-4df3-9d4c-3e6b3c76f270",
   "metadata": {},
   "source": [
    "#### Adding a New Key-Value Pair"
   ]
  },
  {
   "cell_type": "code",
   "execution_count": 15,
   "id": "52eaa802-f185-4b7a-99a2-edbf8338bec2",
   "metadata": {},
   "outputs": [],
   "source": [
    "roman_numerals['L'] = 50"
   ]
  },
  {
   "cell_type": "code",
   "execution_count": 16,
   "id": "1a33bc28-f30e-44cb-b2c9-facb04f7984a",
   "metadata": {},
   "outputs": [
    {
     "data": {
      "text/plain": [
       "{'I': 1, 'II': 2, 'III': 3, 'V': 5, 'X': 10, 'L': 50}"
      ]
     },
     "execution_count": 16,
     "metadata": {},
     "output_type": "execute_result"
    }
   ],
   "source": [
    "roman_numerals"
   ]
  },
  {
   "cell_type": "markdown",
   "id": "8a56f82b-b0fc-4adf-8cb3-ca65b5a8a0b1",
   "metadata": {},
   "source": [
    "#### Removing a Key-Value Pair"
   ]
  },
  {
   "cell_type": "code",
   "execution_count": 17,
   "id": "061b2916-dd7b-4906-be6d-7e19d0f2f1f3",
   "metadata": {},
   "outputs": [],
   "source": [
    "del roman_numerals['III']"
   ]
  },
  {
   "cell_type": "code",
   "execution_count": 18,
   "id": "e5450a2a-c66a-42f3-ab20-edef7afb99cd",
   "metadata": {},
   "outputs": [
    {
     "data": {
      "text/plain": [
       "{'I': 1, 'II': 2, 'V': 5, 'X': 10, 'L': 50}"
      ]
     },
     "execution_count": 18,
     "metadata": {},
     "output_type": "execute_result"
    }
   ],
   "source": [
    "roman_numerals"
   ]
  },
  {
   "cell_type": "code",
   "execution_count": 19,
   "id": "6356ac49-c221-4079-b95b-9d749604eb11",
   "metadata": {},
   "outputs": [
    {
     "data": {
      "text/plain": [
       "10"
      ]
     },
     "execution_count": 19,
     "metadata": {},
     "output_type": "execute_result"
    }
   ],
   "source": [
    "roman_numerals.pop('X')"
   ]
  },
  {
   "cell_type": "code",
   "execution_count": 20,
   "id": "8fe838b3-52c8-4cb2-b966-ae17be2ca5c8",
   "metadata": {},
   "outputs": [
    {
     "data": {
      "text/plain": [
       "{'I': 1, 'II': 2, 'V': 5, 'L': 50}"
      ]
     },
     "execution_count": 20,
     "metadata": {},
     "output_type": "execute_result"
    }
   ],
   "source": [
    "roman_numerals"
   ]
  },
  {
   "cell_type": "markdown",
   "id": "98b20bc6-d883-4c61-89de-40705328e41f",
   "metadata": {},
   "source": [
    "#### Attempting to Access a Nonexistent Key"
   ]
  },
  {
   "cell_type": "code",
   "execution_count": 21,
   "id": "e209b6c3-cae8-469c-9585-eaeca67260e0",
   "metadata": {},
   "outputs": [],
   "source": [
    "### roman_numerals['III'] will result in a KeyError"
   ]
  },
  {
   "cell_type": "markdown",
   "id": "d3161431-7a3c-4884-8b80-eb8d9ece0583",
   "metadata": {},
   "source": [
    "Can avoid a KeyError by using the dictionary method get. "
   ]
  },
  {
   "cell_type": "code",
   "execution_count": 22,
   "id": "4c431d29-7d05-4e71-bd10-60ae7af07c8b",
   "metadata": {},
   "outputs": [],
   "source": [
    "roman_numerals.get('III')"
   ]
  },
  {
   "cell_type": "code",
   "execution_count": 23,
   "id": "45916538-dd34-4015-a5aa-945ffbb5d1ec",
   "metadata": {},
   "outputs": [
    {
     "data": {
      "text/plain": [
       "'III not in dictionary'"
      ]
     },
     "execution_count": 23,
     "metadata": {},
     "output_type": "execute_result"
    }
   ],
   "source": [
    "roman_numerals.get('III', 'III not in dictionary')"
   ]
  },
  {
   "cell_type": "code",
   "execution_count": 24,
   "id": "9032abb9-a0e1-4c56-a895-7f8fb03c2014",
   "metadata": {},
   "outputs": [
    {
     "data": {
      "text/plain": [
       "5"
      ]
     },
     "execution_count": 24,
     "metadata": {},
     "output_type": "execute_result"
    }
   ],
   "source": [
    "roman_numerals.get('V')"
   ]
  },
  {
   "cell_type": "markdown",
   "id": "9b916d59-bc80-4301-96e5-34182e5d228f",
   "metadata": {},
   "source": [
    "#### Testing Whether a Dictionary Contains a Specified Key"
   ]
  },
  {
   "cell_type": "code",
   "execution_count": 25,
   "id": "04b4be3a-f426-4332-8f76-a869f5b9e8f3",
   "metadata": {},
   "outputs": [
    {
     "data": {
      "text/plain": [
       "True"
      ]
     },
     "execution_count": 25,
     "metadata": {},
     "output_type": "execute_result"
    }
   ],
   "source": [
    "'V' in roman_numerals"
   ]
  },
  {
   "cell_type": "code",
   "execution_count": 26,
   "id": "c206524e-2b32-41ad-8ff6-e843915f1b01",
   "metadata": {},
   "outputs": [
    {
     "data": {
      "text/plain": [
       "False"
      ]
     },
     "execution_count": 26,
     "metadata": {},
     "output_type": "execute_result"
    }
   ],
   "source": [
    "'III' in roman_numerals"
   ]
  },
  {
   "cell_type": "code",
   "execution_count": 27,
   "id": "d3148d9a-d0f0-438d-9c0b-f6d2d7366b55",
   "metadata": {},
   "outputs": [
    {
     "data": {
      "text/plain": [
       "True"
      ]
     },
     "execution_count": 27,
     "metadata": {},
     "output_type": "execute_result"
    }
   ],
   "source": [
    "'III' not in roman_numerals"
   ]
  },
  {
   "cell_type": "markdown",
   "id": "5bf6684f-78a0-4368-85a4-6dbe5640631c",
   "metadata": {},
   "source": [
    "#### 6.2.4 Dictionary Methods keys and values"
   ]
  },
  {
   "cell_type": "code",
   "execution_count": 28,
   "id": "d2b04e87-a40a-4911-b752-165ae989cb98",
   "metadata": {},
   "outputs": [],
   "source": [
    "months = {'January': 1, 'February': 2, 'March': 3}"
   ]
  },
  {
   "cell_type": "code",
   "execution_count": 29,
   "id": "0ba24783-b79d-4ae4-8cf6-9e507134ee8d",
   "metadata": {},
   "outputs": [
    {
     "name": "stdout",
     "output_type": "stream",
     "text": [
      "January February March "
     ]
    }
   ],
   "source": [
    "for month_name in months.keys():\n",
    "    print(month_name, end= ' ')"
   ]
  },
  {
   "cell_type": "code",
   "execution_count": 30,
   "id": "f27fc29e-934b-44bc-8b98-99f9f12cf463",
   "metadata": {},
   "outputs": [
    {
     "name": "stdout",
     "output_type": "stream",
     "text": [
      "1 2 3 "
     ]
    }
   ],
   "source": [
    "for month_number in months.values():\n",
    "    print(month_number, end=' ')"
   ]
  },
  {
   "cell_type": "markdown",
   "id": "3e608bbf-b75d-49de-87bb-632a358df3dd",
   "metadata": {},
   "source": [
    "#### Dictionary Views"
   ]
  },
  {
   "cell_type": "code",
   "execution_count": 31,
   "id": "63fa3722-3e1d-4e16-94cd-6069dc77be23",
   "metadata": {},
   "outputs": [],
   "source": [
    "months_view = months.keys()"
   ]
  },
  {
   "cell_type": "code",
   "execution_count": 32,
   "id": "261ee4ea-5c11-4bd5-8233-31af40d870d9",
   "metadata": {},
   "outputs": [
    {
     "name": "stdout",
     "output_type": "stream",
     "text": [
      "January February March "
     ]
    }
   ],
   "source": [
    "for key in months_view:\n",
    "    print(key, end= ' ')"
   ]
  },
  {
   "cell_type": "code",
   "execution_count": 33,
   "id": "b67cc84b-00f8-4afc-8e5a-e201d3465a21",
   "metadata": {},
   "outputs": [],
   "source": [
    "months['Decemeber'] = 12"
   ]
  },
  {
   "cell_type": "code",
   "execution_count": 34,
   "id": "8a152bab-c851-4988-adb3-22fed6c98454",
   "metadata": {},
   "outputs": [
    {
     "data": {
      "text/plain": [
       "{'January': 1, 'February': 2, 'March': 3, 'Decemeber': 12}"
      ]
     },
     "execution_count": 34,
     "metadata": {},
     "output_type": "execute_result"
    }
   ],
   "source": [
    "months"
   ]
  },
  {
   "cell_type": "code",
   "execution_count": 35,
   "id": "3736377f-1e1b-4227-be8c-fd83d7b96951",
   "metadata": {},
   "outputs": [
    {
     "name": "stdout",
     "output_type": "stream",
     "text": [
      "January February March Decemeber "
     ]
    }
   ],
   "source": [
    "for key in months_view:\n",
    "    print(key, end=' ')"
   ]
  },
  {
   "cell_type": "markdown",
   "id": "a334a642-03f3-4b51-a65d-4a0f4c1e55fa",
   "metadata": {},
   "source": [
    "#### Converting Dictionary Keys, Values and Key-Value Pairs to Lists"
   ]
  },
  {
   "cell_type": "code",
   "execution_count": 36,
   "id": "dfb54260-dcfc-4f6a-b5a5-e93dbde105d9",
   "metadata": {},
   "outputs": [
    {
     "data": {
      "text/plain": [
       "['January', 'February', 'March', 'Decemeber']"
      ]
     },
     "execution_count": 36,
     "metadata": {},
     "output_type": "execute_result"
    }
   ],
   "source": [
    "list(months.keys())"
   ]
  },
  {
   "cell_type": "code",
   "execution_count": 37,
   "id": "4f2e9357-2e74-4de8-88c7-2abc4013a5da",
   "metadata": {},
   "outputs": [
    {
     "data": {
      "text/plain": [
       "[1, 2, 3, 12]"
      ]
     },
     "execution_count": 37,
     "metadata": {},
     "output_type": "execute_result"
    }
   ],
   "source": [
    "list(months.values())"
   ]
  },
  {
   "cell_type": "code",
   "execution_count": 38,
   "id": "5e80f912-0b61-4d78-aa5f-12d37cb8e6a9",
   "metadata": {},
   "outputs": [
    {
     "data": {
      "text/plain": [
       "[('January', 1), ('February', 2), ('March', 3), ('Decemeber', 12)]"
      ]
     },
     "execution_count": 38,
     "metadata": {},
     "output_type": "execute_result"
    }
   ],
   "source": [
    "list(months.items())"
   ]
  },
  {
   "cell_type": "markdown",
   "id": "fe169285-21ac-4e37-a3e0-6c4328df1783",
   "metadata": {},
   "source": [
    "#### Processing Keys in Sorted Order"
   ]
  },
  {
   "cell_type": "code",
   "execution_count": 39,
   "id": "843b8401-5040-4620-83ca-c6d92ba89ab3",
   "metadata": {},
   "outputs": [
    {
     "name": "stdout",
     "output_type": "stream",
     "text": [
      "Decemeber February January March "
     ]
    }
   ],
   "source": [
    "for month_name in sorted(months.keys()):\n",
    "    print(month_name, end=' ')"
   ]
  },
  {
   "cell_type": "markdown",
   "id": "17bbc70d-1ac5-41c1-bcf1-86a962956772",
   "metadata": {},
   "source": [
    "#### 6.2.5 Dictionary Comparisons"
   ]
  },
  {
   "cell_type": "code",
   "execution_count": 40,
   "id": "683783a6-f82d-4005-8993-67fa1536b705",
   "metadata": {},
   "outputs": [],
   "source": [
    "country_capitals1 = {'Belgium': 'Brussels', 'Haiti': 'Port-au-Prince'}"
   ]
  },
  {
   "cell_type": "code",
   "execution_count": 41,
   "id": "dadb6966-45b3-4959-a07b-98721f486283",
   "metadata": {},
   "outputs": [],
   "source": [
    "country_capitals2 = {'Nepal': 'Kathmandu', 'Uruguay': 'Montevideo'}"
   ]
  },
  {
   "cell_type": "code",
   "execution_count": 42,
   "id": "1131c85d-613d-42b6-a4be-7e1e61fd6309",
   "metadata": {},
   "outputs": [],
   "source": [
    "country_capitals3 = {'Haiti': 'Port-au-Prince', 'Belgium': 'Brussels'}"
   ]
  },
  {
   "cell_type": "code",
   "execution_count": 43,
   "id": "0410eaff-d734-4dba-89c3-fe2802a1560a",
   "metadata": {},
   "outputs": [
    {
     "data": {
      "text/plain": [
       "False"
      ]
     },
     "execution_count": 43,
     "metadata": {},
     "output_type": "execute_result"
    }
   ],
   "source": [
    "country_capitals1 == country_capitals2"
   ]
  },
  {
   "cell_type": "code",
   "execution_count": 44,
   "id": "9372cf7b-6474-4d54-88f2-654950661bad",
   "metadata": {},
   "outputs": [
    {
     "data": {
      "text/plain": [
       "True"
      ]
     },
     "execution_count": 44,
     "metadata": {},
     "output_type": "execute_result"
    }
   ],
   "source": [
    "country_capitals1 == country_capitals3"
   ]
  },
  {
   "cell_type": "code",
   "execution_count": 45,
   "id": "fc34a39a-8636-4bc3-911a-a86de399eacb",
   "metadata": {},
   "outputs": [
    {
     "data": {
      "text/plain": [
       "True"
      ]
     },
     "execution_count": 45,
     "metadata": {},
     "output_type": "execute_result"
    }
   ],
   "source": [
    "country_capitals1 != country_capitals2"
   ]
  },
  {
   "cell_type": "markdown",
   "id": "df208080-5a05-44fe-ac1a-d113f21a4582",
   "metadata": {},
   "source": [
    "#### 6.2.8 Dictionary Method update"
   ]
  },
  {
   "cell_type": "code",
   "execution_count": 46,
   "id": "aa1d6ebe-45ab-4631-a454-db7c6ea2c3b1",
   "metadata": {},
   "outputs": [],
   "source": [
    "country_codes = {}"
   ]
  },
  {
   "cell_type": "code",
   "execution_count": 47,
   "id": "d6212159-8ba2-4c31-85ae-95b812a12d96",
   "metadata": {},
   "outputs": [],
   "source": [
    "country_codes.update({'South Africa': 'za'})"
   ]
  },
  {
   "cell_type": "code",
   "execution_count": 48,
   "id": "ee537af2-f2c9-4671-8903-4099a6d92444",
   "metadata": {},
   "outputs": [
    {
     "data": {
      "text/plain": [
       "{'South Africa': 'za'}"
      ]
     },
     "execution_count": 48,
     "metadata": {},
     "output_type": "execute_result"
    }
   ],
   "source": [
    "country_codes"
   ]
  },
  {
   "cell_type": "code",
   "execution_count": 49,
   "id": "a04c9d7c-c7c2-4233-8a88-98d83f823faa",
   "metadata": {},
   "outputs": [],
   "source": [
    "country_codes.update(Australia='ar')"
   ]
  },
  {
   "cell_type": "code",
   "execution_count": 50,
   "id": "9d67286d-3b92-48d3-8ca5-16a20b2ed00b",
   "metadata": {},
   "outputs": [
    {
     "data": {
      "text/plain": [
       "{'South Africa': 'za', 'Australia': 'ar'}"
      ]
     },
     "execution_count": 50,
     "metadata": {},
     "output_type": "execute_result"
    }
   ],
   "source": [
    "country_codes"
   ]
  },
  {
   "cell_type": "code",
   "execution_count": 51,
   "id": "ab78ae84-9017-4966-a0b1-52210e4ea3cf",
   "metadata": {},
   "outputs": [
    {
     "data": {
      "text/plain": [
       "{'South Africa': 'za', 'Australia': 'ar'}"
      ]
     },
     "execution_count": 51,
     "metadata": {},
     "output_type": "execute_result"
    }
   ],
   "source": [
    "country_codes"
   ]
  },
  {
   "cell_type": "markdown",
   "id": "6fc0e715-0737-41c3-8568-5cc3c6bbe3ac",
   "metadata": {},
   "source": [
    "#### 6.2.9 Dictionary Comprehensions"
   ]
  },
  {
   "cell_type": "code",
   "execution_count": 52,
   "id": "83fcd304-0d0a-4b5c-9277-906c8b9eb920",
   "metadata": {},
   "outputs": [],
   "source": [
    "months = {'January': 1, 'February': 2, 'March':3}"
   ]
  },
  {
   "cell_type": "code",
   "execution_count": 53,
   "id": "0c3a931b-0d65-4a79-8978-bb751331f6f3",
   "metadata": {},
   "outputs": [],
   "source": [
    "months2 = {number: name for name, number in months.items()}"
   ]
  },
  {
   "cell_type": "code",
   "execution_count": 54,
   "id": "4f97173e-ff6b-4ab6-86b0-8a86798e4dc6",
   "metadata": {},
   "outputs": [
    {
     "data": {
      "text/plain": [
       "{1: 'January', 2: 'February', 3: 'March'}"
      ]
     },
     "execution_count": 54,
     "metadata": {},
     "output_type": "execute_result"
    }
   ],
   "source": [
    "months2"
   ]
  },
  {
   "cell_type": "code",
   "execution_count": 55,
   "id": "7607155d-7a6d-4f2f-8f54-3d1bb6601d91",
   "metadata": {},
   "outputs": [],
   "source": [
    "grades = {'Sue': [98, 87, 94], 'Bob': [84, 95, 91]}"
   ]
  },
  {
   "cell_type": "code",
   "execution_count": 56,
   "id": "3c7cf93b-bf1f-4c07-9bb5-eea8b01ad522",
   "metadata": {},
   "outputs": [],
   "source": [
    "grades2 = {k: sum(v) / len(v) for k, v in grades.items()}"
   ]
  },
  {
   "cell_type": "code",
   "execution_count": 57,
   "id": "8bd63377-dff4-4d3d-a1ba-6378ed481e27",
   "metadata": {},
   "outputs": [
    {
     "data": {
      "text/plain": [
       "{'Sue': 93.0, 'Bob': 90.0}"
      ]
     },
     "execution_count": 57,
     "metadata": {},
     "output_type": "execute_result"
    }
   ],
   "source": [
    "grades2"
   ]
  },
  {
   "cell_type": "markdown",
   "id": "23fb8d75-52f6-4841-a5ce-edabad615f00",
   "metadata": {},
   "source": [
    "## 6.3 Sets"
   ]
  },
  {
   "cell_type": "markdown",
   "id": "5164d08f-a0ef-4178-a177-20940e248d23",
   "metadata": {},
   "source": [
    "#### Creating a Set with Curly Braces"
   ]
  },
  {
   "cell_type": "code",
   "execution_count": 58,
   "id": "5b05b108-d459-4f84-8c3c-e10280cd4110",
   "metadata": {},
   "outputs": [],
   "source": [
    "colors = {'red', 'orange', 'yellow', 'green', 'red', 'blue'}"
   ]
  },
  {
   "cell_type": "code",
   "execution_count": 59,
   "id": "7a014cc2-9985-408a-b84a-3e6283d9ffdc",
   "metadata": {},
   "outputs": [
    {
     "data": {
      "text/plain": [
       "{'blue', 'green', 'orange', 'red', 'yellow'}"
      ]
     },
     "execution_count": 59,
     "metadata": {},
     "output_type": "execute_result"
    }
   ],
   "source": [
    "colors"
   ]
  },
  {
   "cell_type": "markdown",
   "id": "7311fd8c-cef9-48a2-941a-9dc48f5b3052",
   "metadata": {},
   "source": [
    "#### Determing a Set's Length"
   ]
  },
  {
   "cell_type": "code",
   "execution_count": 60,
   "id": "2b263c7b-feb4-4be2-aca2-56adde061e78",
   "metadata": {},
   "outputs": [
    {
     "data": {
      "text/plain": [
       "5"
      ]
     },
     "execution_count": 60,
     "metadata": {},
     "output_type": "execute_result"
    }
   ],
   "source": [
    "len(colors)"
   ]
  },
  {
   "cell_type": "markdown",
   "id": "0ac28c53-672a-4b02-bffe-17e171afcb4f",
   "metadata": {},
   "source": [
    "#### Checking Whether a Value is in a Set"
   ]
  },
  {
   "cell_type": "code",
   "execution_count": 61,
   "id": "0841c3d6-a257-4b0a-91ff-dff5a2bf8ccf",
   "metadata": {},
   "outputs": [
    {
     "data": {
      "text/plain": [
       "True"
      ]
     },
     "execution_count": 61,
     "metadata": {},
     "output_type": "execute_result"
    }
   ],
   "source": [
    "'red' in colors"
   ]
  },
  {
   "cell_type": "code",
   "execution_count": 62,
   "id": "1349e810-0ac1-4e69-86f9-6573eaee642f",
   "metadata": {},
   "outputs": [
    {
     "data": {
      "text/plain": [
       "False"
      ]
     },
     "execution_count": 62,
     "metadata": {},
     "output_type": "execute_result"
    }
   ],
   "source": [
    "'purple' in colors"
   ]
  },
  {
   "cell_type": "code",
   "execution_count": 63,
   "id": "f254ccaf-814c-4d44-8ea8-02ffce8ce85c",
   "metadata": {},
   "outputs": [
    {
     "data": {
      "text/plain": [
       "True"
      ]
     },
     "execution_count": 63,
     "metadata": {},
     "output_type": "execute_result"
    }
   ],
   "source": [
    "'purple' not in colors"
   ]
  },
  {
   "cell_type": "markdown",
   "id": "f0a2509b-2a71-423f-8f34-b69da3961ab4",
   "metadata": {},
   "source": [
    "#### Iterating Through a Set"
   ]
  },
  {
   "cell_type": "code",
   "execution_count": 64,
   "id": "be965474-f204-4d91-bc01-d780de7527e0",
   "metadata": {},
   "outputs": [
    {
     "name": "stdout",
     "output_type": "stream",
     "text": [
      "GREEN ORANGE YELLOW RED BLUE "
     ]
    }
   ],
   "source": [
    "for color in colors:\n",
    "    print(color.upper(), end=' ')"
   ]
  },
  {
   "cell_type": "markdown",
   "id": "4d3eeade-0479-463c-9a9a-27e19fdb12d6",
   "metadata": {},
   "source": [
    "#### Creating a Set with the Built-In set Function"
   ]
  },
  {
   "cell_type": "code",
   "execution_count": 65,
   "id": "f1a0720f-078d-4cfe-8163-e0ac871ce93f",
   "metadata": {},
   "outputs": [],
   "source": [
    "numbers = list(range(10)) + list(range(5))"
   ]
  },
  {
   "cell_type": "code",
   "execution_count": 66,
   "id": "3cafdb50-fd12-4595-9b2b-559e371ffdf1",
   "metadata": {},
   "outputs": [
    {
     "data": {
      "text/plain": [
       "[0, 1, 2, 3, 4, 5, 6, 7, 8, 9, 0, 1, 2, 3, 4]"
      ]
     },
     "execution_count": 66,
     "metadata": {},
     "output_type": "execute_result"
    }
   ],
   "source": [
    "numbers"
   ]
  },
  {
   "cell_type": "code",
   "execution_count": 67,
   "id": "5348f6f2-4d92-4da3-bad2-69fa3a8a49f7",
   "metadata": {},
   "outputs": [
    {
     "data": {
      "text/plain": [
       "{0, 1, 2, 3, 4, 5, 6, 7, 8, 9}"
      ]
     },
     "execution_count": 67,
     "metadata": {},
     "output_type": "execute_result"
    }
   ],
   "source": [
    "set(numbers)"
   ]
  },
  {
   "cell_type": "code",
   "execution_count": 68,
   "id": "b5a83c52-86fc-4e92-8840-ecadb4c3c760",
   "metadata": {},
   "outputs": [
    {
     "data": {
      "text/plain": [
       "set()"
      ]
     },
     "execution_count": 68,
     "metadata": {},
     "output_type": "execute_result"
    }
   ],
   "source": [
    "set()"
   ]
  },
  {
   "cell_type": "markdown",
   "id": "4a1d74b9-f0dd-445f-a76b-34089c09f041",
   "metadata": {},
   "source": [
    "#### 6.3.1 Comparing Sets"
   ]
  },
  {
   "cell_type": "code",
   "execution_count": 69,
   "id": "66adb853-21a7-46fc-a082-1d103490721e",
   "metadata": {},
   "outputs": [
    {
     "data": {
      "text/plain": [
       "True"
      ]
     },
     "execution_count": 69,
     "metadata": {},
     "output_type": "execute_result"
    }
   ],
   "source": [
    "{1, 3, 5} == {3, 5, 1}"
   ]
  },
  {
   "cell_type": "code",
   "execution_count": 70,
   "id": "c0a26514-276f-4bae-a467-eb6ff93cfb68",
   "metadata": {},
   "outputs": [
    {
     "data": {
      "text/plain": [
       "False"
      ]
     },
     "execution_count": 70,
     "metadata": {},
     "output_type": "execute_result"
    }
   ],
   "source": [
    "{1, 3, 5} != {3, 5, 1}"
   ]
  },
  {
   "cell_type": "code",
   "execution_count": 71,
   "id": "39428951-fb91-4bc7-aaf9-6c31ad42fc3f",
   "metadata": {},
   "outputs": [
    {
     "data": {
      "text/plain": [
       "False"
      ]
     },
     "execution_count": 71,
     "metadata": {},
     "output_type": "execute_result"
    }
   ],
   "source": [
    "{1, 3, 5} < {3, 5, 1} \n",
    "## Tests whether all the elements in the left are in the right operand and the sets are not equal. "
   ]
  },
  {
   "cell_type": "code",
   "execution_count": 72,
   "id": "c5e78a0e-7182-438c-9e84-524cf7cbc261",
   "metadata": {},
   "outputs": [
    {
     "data": {
      "text/plain": [
       "True"
      ]
     },
     "execution_count": 72,
     "metadata": {},
     "output_type": "execute_result"
    }
   ],
   "source": [
    "{1, 3, 5} < {7, 3, 5, 1}"
   ]
  },
  {
   "cell_type": "code",
   "execution_count": 73,
   "id": "71e1ca79-18eb-455c-b110-9e16bc62fd8a",
   "metadata": {},
   "outputs": [
    {
     "data": {
      "text/plain": [
       "True"
      ]
     },
     "execution_count": 73,
     "metadata": {},
     "output_type": "execute_result"
    }
   ],
   "source": [
    "{1, 3, 5} <= {3, 5, 1}\n",
    "## Tests whether all the elements in the left are in the right, and the sets might be equal."
   ]
  },
  {
   "cell_type": "code",
   "execution_count": 74,
   "id": "e08c4084-6b07-4182-9fee-6bbca61b87df",
   "metadata": {},
   "outputs": [
    {
     "data": {
      "text/plain": [
       "True"
      ]
     },
     "execution_count": 74,
     "metadata": {},
     "output_type": "execute_result"
    }
   ],
   "source": [
    "{1, 3}<= {3, 5, 1}"
   ]
  },
  {
   "cell_type": "code",
   "execution_count": 75,
   "id": "bf87010b-f183-4a0a-ad6a-cdde9a599202",
   "metadata": {},
   "outputs": [
    {
     "data": {
      "text/plain": [
       "True"
      ]
     },
     "execution_count": 75,
     "metadata": {},
     "output_type": "execute_result"
    }
   ],
   "source": [
    "{1, 3, 5}.issubset({3, 5, 1})"
   ]
  },
  {
   "cell_type": "code",
   "execution_count": 76,
   "id": "1dca9a4f-4807-490c-8413-752fb5634669",
   "metadata": {},
   "outputs": [
    {
     "data": {
      "text/plain": [
       "False"
      ]
     },
     "execution_count": 76,
     "metadata": {},
     "output_type": "execute_result"
    }
   ],
   "source": [
    "{1, 2}.issubset({3, 5, 1})"
   ]
  },
  {
   "cell_type": "markdown",
   "id": "88d21d6a-4beb-45f3-bc6b-48c574d8d28d",
   "metadata": {},
   "source": [
    "#### 6.3.2 - Mathematical Set Operations"
   ]
  },
  {
   "cell_type": "markdown",
   "id": "8b1c046e-cf33-4f27-a661-eafdd25912a5",
   "metadata": {},
   "source": [
    "#### Union"
   ]
  },
  {
   "cell_type": "code",
   "execution_count": 77,
   "id": "178f344f-41c7-4599-af0b-d07144152c49",
   "metadata": {},
   "outputs": [
    {
     "data": {
      "text/plain": [
       "{1, 2, 3, 4, 5}"
      ]
     },
     "execution_count": 77,
     "metadata": {},
     "output_type": "execute_result"
    }
   ],
   "source": [
    "{1, 3, 5} | {2, 3, 4}"
   ]
  },
  {
   "cell_type": "code",
   "execution_count": 78,
   "id": "5e0bd1df-7d63-4cab-9953-6777ab5c8d3f",
   "metadata": {},
   "outputs": [
    {
     "data": {
      "text/plain": [
       "{1, 3, 5, 20, 40}"
      ]
     },
     "execution_count": 78,
     "metadata": {},
     "output_type": "execute_result"
    }
   ],
   "source": [
    "{1, 3, 5}.union([20, 20, 3, 40, 40])"
   ]
  },
  {
   "cell_type": "markdown",
   "id": "4853e83b-f41b-4395-aa3f-7cb324d80012",
   "metadata": {},
   "source": [
    "#### Intersection"
   ]
  },
  {
   "cell_type": "code",
   "execution_count": 79,
   "id": "f5afa889-dd63-40c5-b7d9-e35dd9299b79",
   "metadata": {},
   "outputs": [
    {
     "data": {
      "text/plain": [
       "{3}"
      ]
     },
     "execution_count": 79,
     "metadata": {},
     "output_type": "execute_result"
    }
   ],
   "source": [
    "{1, 3, 5} & {2, 3, 4}"
   ]
  },
  {
   "cell_type": "code",
   "execution_count": 80,
   "id": "f3b6665a-3a02-4022-981c-25f54883d2cb",
   "metadata": {},
   "outputs": [
    {
     "data": {
      "text/plain": [
       "{1, 3}"
      ]
     },
     "execution_count": 80,
     "metadata": {},
     "output_type": "execute_result"
    }
   ],
   "source": [
    "{1, 3, 5}.intersection([1, 2, 2, 3, 3, 4, 4])"
   ]
  },
  {
   "cell_type": "markdown",
   "id": "64841b09-4666-48af-9be2-9582e29559b2",
   "metadata": {},
   "source": [
    "#### Difference"
   ]
  },
  {
   "cell_type": "code",
   "execution_count": 81,
   "id": "f7dd1b1e-b0ee-425c-8db4-53d40177817a",
   "metadata": {},
   "outputs": [
    {
     "data": {
      "text/plain": [
       "{1, 5}"
      ]
     },
     "execution_count": 81,
     "metadata": {},
     "output_type": "execute_result"
    }
   ],
   "source": [
    "{1, 3, 5} - {2, 3, 4}"
   ]
  },
  {
   "cell_type": "code",
   "execution_count": 82,
   "id": "c4043141-81fa-4c52-a815-5347f70aed8b",
   "metadata": {},
   "outputs": [
    {
     "data": {
      "text/plain": [
       "{1, 5, 7}"
      ]
     },
     "execution_count": 82,
     "metadata": {},
     "output_type": "execute_result"
    }
   ],
   "source": [
    "{1, 3, 5, 7}.difference([2, 2, 3, 3, 4, 4])"
   ]
  },
  {
   "cell_type": "markdown",
   "id": "0703e1bd-5fc9-4273-9d40-c52b2a11eabf",
   "metadata": {},
   "source": [
    "#### Symmetric Difference"
   ]
  },
  {
   "cell_type": "code",
   "execution_count": 83,
   "id": "385cbff2-84c8-4ba9-ba67-3229167103c2",
   "metadata": {},
   "outputs": [
    {
     "data": {
      "text/plain": [
       "{1, 2, 4, 5}"
      ]
     },
     "execution_count": 83,
     "metadata": {},
     "output_type": "execute_result"
    }
   ],
   "source": [
    "{1, 3, 5} ^ {2, 3, 4}"
   ]
  },
  {
   "cell_type": "code",
   "execution_count": 84,
   "id": "793c0fe6-5e4e-49eb-a0a4-6743f01b1e55",
   "metadata": {},
   "outputs": [
    {
     "data": {
      "text/plain": [
       "{1, 2, 4, 5, 7}"
      ]
     },
     "execution_count": 84,
     "metadata": {},
     "output_type": "execute_result"
    }
   ],
   "source": [
    "{1, 3, 5, 7}.symmetric_difference([2, 2, 3, 3, 4, 4])"
   ]
  },
  {
   "cell_type": "markdown",
   "id": "a2b642c7-dae3-4e7d-8290-6298f06298b1",
   "metadata": {},
   "source": [
    "#### Disjoint"
   ]
  },
  {
   "cell_type": "code",
   "execution_count": 85,
   "id": "680ed801-c12f-4ad4-8c13-0793ce2447d5",
   "metadata": {},
   "outputs": [
    {
     "data": {
      "text/plain": [
       "True"
      ]
     },
     "execution_count": 85,
     "metadata": {},
     "output_type": "execute_result"
    }
   ],
   "source": [
    "{1, 3, 5}.isdisjoint({2, 4, 6})"
   ]
  },
  {
   "cell_type": "code",
   "execution_count": 86,
   "id": "346545dd-3698-4148-bf59-5efd3ef78d8d",
   "metadata": {},
   "outputs": [
    {
     "data": {
      "text/plain": [
       "False"
      ]
     },
     "execution_count": 86,
     "metadata": {},
     "output_type": "execute_result"
    }
   ],
   "source": [
    "{1, 3, 5}.isdisjoint({4, 6, 1})"
   ]
  },
  {
   "cell_type": "markdown",
   "id": "127426cc-02cc-46c2-844a-74ac93536b5b",
   "metadata": {},
   "source": [
    "#### 6.3.3 - Mutable Set Operators and Methods"
   ]
  },
  {
   "cell_type": "code",
   "execution_count": 87,
   "id": "391cedc4-b3cc-47c6-bcef-557e7d45dcac",
   "metadata": {},
   "outputs": [],
   "source": [
    "numbers = {1, 3, 5}"
   ]
  },
  {
   "cell_type": "code",
   "execution_count": 88,
   "id": "0f94b5b8-ae5c-4ef2-b4a2-03aa1ce2db30",
   "metadata": {},
   "outputs": [],
   "source": [
    "numbers |= {2, 3, 4}"
   ]
  },
  {
   "cell_type": "code",
   "execution_count": 89,
   "id": "f895b9fe-dd57-40f9-93c1-5c311a77fb98",
   "metadata": {},
   "outputs": [
    {
     "data": {
      "text/plain": [
       "{1, 2, 3, 4, 5}"
      ]
     },
     "execution_count": 89,
     "metadata": {},
     "output_type": "execute_result"
    }
   ],
   "source": [
    "numbers"
   ]
  },
  {
   "cell_type": "code",
   "execution_count": 90,
   "id": "2ed146c2-da56-46ac-8da7-77b2300b87b7",
   "metadata": {},
   "outputs": [],
   "source": [
    "numbers.update(range(10))"
   ]
  },
  {
   "cell_type": "code",
   "execution_count": 91,
   "id": "16c1ffe1-e20e-444e-9660-c06901b481cd",
   "metadata": {},
   "outputs": [
    {
     "data": {
      "text/plain": [
       "{0, 1, 2, 3, 4, 5, 6, 7, 8, 9}"
      ]
     },
     "execution_count": 91,
     "metadata": {},
     "output_type": "execute_result"
    }
   ],
   "source": [
    "numbers"
   ]
  },
  {
   "cell_type": "markdown",
   "id": "a993101b-a3ef-48ef-835a-ee2ab9bef7b2",
   "metadata": {},
   "source": [
    "#### Methods for Adding and Removing Elements"
   ]
  },
  {
   "cell_type": "code",
   "execution_count": 92,
   "id": "c43d787e-c3af-409f-b507-68a664a1a5a9",
   "metadata": {},
   "outputs": [],
   "source": [
    "numbers.add(17)"
   ]
  },
  {
   "cell_type": "code",
   "execution_count": 93,
   "id": "31af57b3-9461-430f-889d-4e99d9d79ba6",
   "metadata": {},
   "outputs": [],
   "source": [
    "numbers.add(3)"
   ]
  },
  {
   "cell_type": "code",
   "execution_count": 94,
   "id": "e5711218-eda0-4711-a571-62cc542bcd00",
   "metadata": {},
   "outputs": [
    {
     "data": {
      "text/plain": [
       "{0, 1, 2, 3, 4, 5, 6, 7, 8, 9, 17}"
      ]
     },
     "execution_count": 94,
     "metadata": {},
     "output_type": "execute_result"
    }
   ],
   "source": [
    "numbers"
   ]
  },
  {
   "cell_type": "code",
   "execution_count": 95,
   "id": "a19eedb7-5085-4c12-8818-f240db2df334",
   "metadata": {},
   "outputs": [],
   "source": [
    "numbers.remove(3)"
   ]
  },
  {
   "cell_type": "code",
   "execution_count": 96,
   "id": "abb1cbf5-e891-4a3d-ac37-8168eeb7251a",
   "metadata": {},
   "outputs": [
    {
     "data": {
      "text/plain": [
       "{0, 1, 2, 4, 5, 6, 7, 8, 9, 17}"
      ]
     },
     "execution_count": 96,
     "metadata": {},
     "output_type": "execute_result"
    }
   ],
   "source": [
    "numbers"
   ]
  },
  {
   "cell_type": "code",
   "execution_count": 97,
   "id": "e468ee73-86c0-4351-9631-899eff00c90d",
   "metadata": {},
   "outputs": [
    {
     "data": {
      "text/plain": [
       "0"
      ]
     },
     "execution_count": 97,
     "metadata": {},
     "output_type": "execute_result"
    }
   ],
   "source": [
    "numbers.pop()"
   ]
  },
  {
   "cell_type": "code",
   "execution_count": 98,
   "id": "8d020fca-d37e-48eb-b275-9aeb15332fed",
   "metadata": {},
   "outputs": [
    {
     "data": {
      "text/plain": [
       "{1, 2, 4, 5, 6, 7, 8, 9, 17}"
      ]
     },
     "execution_count": 98,
     "metadata": {},
     "output_type": "execute_result"
    }
   ],
   "source": [
    "numbers"
   ]
  },
  {
   "cell_type": "code",
   "execution_count": 99,
   "id": "80159cb8-b532-4212-8f6f-90e825a648b3",
   "metadata": {},
   "outputs": [],
   "source": [
    "numbers.clear()"
   ]
  },
  {
   "cell_type": "code",
   "execution_count": 100,
   "id": "376d34ee-d9ee-43a4-ad3f-60631f816bdd",
   "metadata": {},
   "outputs": [
    {
     "data": {
      "text/plain": [
       "set()"
      ]
     },
     "execution_count": 100,
     "metadata": {},
     "output_type": "execute_result"
    }
   ],
   "source": [
    "numbers"
   ]
  },
  {
   "cell_type": "code",
   "execution_count": null,
   "id": "8307934d-13c9-4ad7-9877-102416566d1f",
   "metadata": {},
   "outputs": [],
   "source": []
  }
 ],
 "metadata": {
  "kernelspec": {
   "display_name": "Python 3 (ipykernel)",
   "language": "python",
   "name": "python3"
  },
  "language_info": {
   "codemirror_mode": {
    "name": "ipython",
    "version": 3
   },
   "file_extension": ".py",
   "mimetype": "text/x-python",
   "name": "python",
   "nbconvert_exporter": "python",
   "pygments_lexer": "ipython3",
   "version": "3.9.12"
  }
 },
 "nbformat": 4,
 "nbformat_minor": 5
}
